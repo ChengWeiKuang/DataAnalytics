{
 "cells": [
  {
   "cell_type": "markdown",
   "id": "4be17e89-3140-4205-baad-d5341f5cbb63",
   "metadata": {},
   "source": [
    "# Machine Predictive Maintenance Data"
   ]
  },
  {
   "cell_type": "markdown",
   "id": "c495bc74-b188-4e41-b90e-55e9d19488de",
   "metadata": {},
   "source": [
    "------"
   ]
  },
  {
   "cell_type": "markdown",
   "id": "f2ecc9e3-b548-4bcb-b4ea-884715e6c418",
   "metadata": {},
   "source": [
    "## Part 2: Machine Learning"
   ]
  },
  {
   "cell_type": "markdown",
   "id": "8b9d5f5d-a414-44d4-bc06-3740e3166c0c",
   "metadata": {},
   "source": [
    "In the previous Jupyter Notebook, data exploration has been done to get a better understanding on the dataset.   \n",
    "This notebook will be focusing more on:  \n",
    "- Building machine learning models to predict machine failures,  \n",
    "- Fine-tuning them to get a better prediction results, and  \n",
    "- Select the model that has the best performance in the prediction.  \n",
    "\n",
    "This time, **Random Forest Classifier** and **Gradient Boosting Classifier** will be used to perform **classifications**, to predict the value of the \"Target\" column by using other columns available in the dataset.  \n",
    "For each of these models, **Cross Validation** and **Model Tuning** will also be performed. "
   ]
  },
  {
   "cell_type": "markdown",
   "id": "8a9c153a-80b3-4008-bc86-2a99b6a6d16f",
   "metadata": {},
   "source": [
    "------"
   ]
  },
  {
   "cell_type": "markdown",
   "id": "640f6e15-fc30-4ac3-a201-5addb0e94dd0",
   "metadata": {},
   "source": [
    "### 2a. Pre-modelling Data Processing"
   ]
  },
  {
   "cell_type": "markdown",
   "id": "3fd5fd16-a3d7-478e-a88d-1ee00e9247f7",
   "metadata": {},
   "source": [
    "Firstly, the dataset is imported again, and some processings are performed so that the dataset can be fitted into the models later. "
   ]
  },
  {
   "cell_type": "code",
   "execution_count": 1,
   "id": "136f3976-f81c-43bc-b3d3-2d6e4ee351d0",
   "metadata": {
    "execution": {
     "iopub.execute_input": "2024-10-12T07:36:16.995117Z",
     "iopub.status.busy": "2024-10-12T07:36:16.995117Z",
     "iopub.status.idle": "2024-10-12T07:36:22.835521Z",
     "shell.execute_reply": "2024-10-12T07:36:22.835013Z",
     "shell.execute_reply.started": "2024-10-12T07:36:16.995117Z"
    }
   },
   "outputs": [],
   "source": [
    "# Import libraries\n",
    "import pandas as pd\n",
    "import matplotlib.pyplot as plt\n",
    "from sklearn.model_selection import train_test_split, ShuffleSplit, cross_validate, GridSearchCV\n",
    "from sklearn.ensemble import RandomForestClassifier, GradientBoostingClassifier\n",
    "from sklearn.metrics import accuracy_score, f1_score\n",
    "import joblib"
   ]
  },
  {
   "cell_type": "code",
   "execution_count": 2,
   "id": "514d355c-e73b-4662-b77c-c6172af572c1",
   "metadata": {
    "execution": {
     "iopub.execute_input": "2024-10-12T07:36:22.836532Z",
     "iopub.status.busy": "2024-10-12T07:36:22.836532Z",
     "iopub.status.idle": "2024-10-12T07:36:22.882886Z",
     "shell.execute_reply": "2024-10-12T07:36:22.881682Z",
     "shell.execute_reply.started": "2024-10-12T07:36:22.836532Z"
    }
   },
   "outputs": [],
   "source": [
    "# Import data\n",
    "df_raw = pd.read_csv(\"dataset_raw.csv\")"
   ]
  },
  {
   "cell_type": "code",
   "execution_count": 3,
   "id": "55ed37b1-5137-4999-9596-cb68f65b30eb",
   "metadata": {
    "execution": {
     "iopub.execute_input": "2024-10-12T07:36:22.883396Z",
     "iopub.status.busy": "2024-10-12T07:36:22.883396Z",
     "iopub.status.idle": "2024-10-12T07:36:22.960991Z",
     "shell.execute_reply": "2024-10-12T07:36:22.960487Z",
     "shell.execute_reply.started": "2024-10-12T07:36:22.883396Z"
    }
   },
   "outputs": [
    {
     "data": {
      "text/html": [
       "<div>\n",
       "<style scoped>\n",
       "    .dataframe tbody tr th:only-of-type {\n",
       "        vertical-align: middle;\n",
       "    }\n",
       "\n",
       "    .dataframe tbody tr th {\n",
       "        vertical-align: top;\n",
       "    }\n",
       "\n",
       "    .dataframe thead th {\n",
       "        text-align: right;\n",
       "    }\n",
       "</style>\n",
       "<table border=\"1\" class=\"dataframe\">\n",
       "  <thead>\n",
       "    <tr style=\"text-align: right;\">\n",
       "      <th></th>\n",
       "      <th>UDI</th>\n",
       "      <th>Product ID</th>\n",
       "      <th>Type</th>\n",
       "      <th>Air temperature [K]</th>\n",
       "      <th>Process temperature [K]</th>\n",
       "      <th>Rotational speed [rpm]</th>\n",
       "      <th>Torque [Nm]</th>\n",
       "      <th>Tool wear [min]</th>\n",
       "      <th>Target</th>\n",
       "      <th>Failure Type</th>\n",
       "    </tr>\n",
       "  </thead>\n",
       "  <tbody>\n",
       "    <tr>\n",
       "      <th>0</th>\n",
       "      <td>1</td>\n",
       "      <td>M14860</td>\n",
       "      <td>M</td>\n",
       "      <td>298.1</td>\n",
       "      <td>308.6</td>\n",
       "      <td>1551</td>\n",
       "      <td>42.8</td>\n",
       "      <td>0</td>\n",
       "      <td>0</td>\n",
       "      <td>No Failure</td>\n",
       "    </tr>\n",
       "    <tr>\n",
       "      <th>1</th>\n",
       "      <td>2</td>\n",
       "      <td>L47181</td>\n",
       "      <td>L</td>\n",
       "      <td>298.2</td>\n",
       "      <td>308.7</td>\n",
       "      <td>1408</td>\n",
       "      <td>46.3</td>\n",
       "      <td>3</td>\n",
       "      <td>0</td>\n",
       "      <td>No Failure</td>\n",
       "    </tr>\n",
       "    <tr>\n",
       "      <th>2</th>\n",
       "      <td>3</td>\n",
       "      <td>L47182</td>\n",
       "      <td>L</td>\n",
       "      <td>298.1</td>\n",
       "      <td>308.5</td>\n",
       "      <td>1498</td>\n",
       "      <td>49.4</td>\n",
       "      <td>5</td>\n",
       "      <td>0</td>\n",
       "      <td>No Failure</td>\n",
       "    </tr>\n",
       "    <tr>\n",
       "      <th>3</th>\n",
       "      <td>4</td>\n",
       "      <td>L47183</td>\n",
       "      <td>L</td>\n",
       "      <td>298.2</td>\n",
       "      <td>308.6</td>\n",
       "      <td>1433</td>\n",
       "      <td>39.5</td>\n",
       "      <td>7</td>\n",
       "      <td>0</td>\n",
       "      <td>No Failure</td>\n",
       "    </tr>\n",
       "    <tr>\n",
       "      <th>4</th>\n",
       "      <td>5</td>\n",
       "      <td>L47184</td>\n",
       "      <td>L</td>\n",
       "      <td>298.2</td>\n",
       "      <td>308.7</td>\n",
       "      <td>1408</td>\n",
       "      <td>40.0</td>\n",
       "      <td>9</td>\n",
       "      <td>0</td>\n",
       "      <td>No Failure</td>\n",
       "    </tr>\n",
       "    <tr>\n",
       "      <th>5</th>\n",
       "      <td>6</td>\n",
       "      <td>M14865</td>\n",
       "      <td>M</td>\n",
       "      <td>298.1</td>\n",
       "      <td>308.6</td>\n",
       "      <td>1425</td>\n",
       "      <td>41.9</td>\n",
       "      <td>11</td>\n",
       "      <td>0</td>\n",
       "      <td>No Failure</td>\n",
       "    </tr>\n",
       "    <tr>\n",
       "      <th>6</th>\n",
       "      <td>7</td>\n",
       "      <td>L47186</td>\n",
       "      <td>L</td>\n",
       "      <td>298.1</td>\n",
       "      <td>308.6</td>\n",
       "      <td>1558</td>\n",
       "      <td>42.4</td>\n",
       "      <td>14</td>\n",
       "      <td>0</td>\n",
       "      <td>No Failure</td>\n",
       "    </tr>\n",
       "    <tr>\n",
       "      <th>7</th>\n",
       "      <td>8</td>\n",
       "      <td>L47187</td>\n",
       "      <td>L</td>\n",
       "      <td>298.1</td>\n",
       "      <td>308.6</td>\n",
       "      <td>1527</td>\n",
       "      <td>40.2</td>\n",
       "      <td>16</td>\n",
       "      <td>0</td>\n",
       "      <td>No Failure</td>\n",
       "    </tr>\n",
       "    <tr>\n",
       "      <th>8</th>\n",
       "      <td>9</td>\n",
       "      <td>M14868</td>\n",
       "      <td>M</td>\n",
       "      <td>298.3</td>\n",
       "      <td>308.7</td>\n",
       "      <td>1667</td>\n",
       "      <td>28.6</td>\n",
       "      <td>18</td>\n",
       "      <td>0</td>\n",
       "      <td>No Failure</td>\n",
       "    </tr>\n",
       "    <tr>\n",
       "      <th>9</th>\n",
       "      <td>10</td>\n",
       "      <td>M14869</td>\n",
       "      <td>M</td>\n",
       "      <td>298.5</td>\n",
       "      <td>309.0</td>\n",
       "      <td>1741</td>\n",
       "      <td>28.0</td>\n",
       "      <td>21</td>\n",
       "      <td>0</td>\n",
       "      <td>No Failure</td>\n",
       "    </tr>\n",
       "  </tbody>\n",
       "</table>\n",
       "</div>"
      ],
      "text/plain": [
       "   UDI Product ID Type  Air temperature [K]  Process temperature [K]  \\\n",
       "0    1     M14860    M                298.1                    308.6   \n",
       "1    2     L47181    L                298.2                    308.7   \n",
       "2    3     L47182    L                298.1                    308.5   \n",
       "3    4     L47183    L                298.2                    308.6   \n",
       "4    5     L47184    L                298.2                    308.7   \n",
       "5    6     M14865    M                298.1                    308.6   \n",
       "6    7     L47186    L                298.1                    308.6   \n",
       "7    8     L47187    L                298.1                    308.6   \n",
       "8    9     M14868    M                298.3                    308.7   \n",
       "9   10     M14869    M                298.5                    309.0   \n",
       "\n",
       "   Rotational speed [rpm]  Torque [Nm]  Tool wear [min]  Target Failure Type  \n",
       "0                    1551         42.8                0       0   No Failure  \n",
       "1                    1408         46.3                3       0   No Failure  \n",
       "2                    1498         49.4                5       0   No Failure  \n",
       "3                    1433         39.5                7       0   No Failure  \n",
       "4                    1408         40.0                9       0   No Failure  \n",
       "5                    1425         41.9               11       0   No Failure  \n",
       "6                    1558         42.4               14       0   No Failure  \n",
       "7                    1527         40.2               16       0   No Failure  \n",
       "8                    1667         28.6               18       0   No Failure  \n",
       "9                    1741         28.0               21       0   No Failure  "
      ]
     },
     "execution_count": 3,
     "metadata": {},
     "output_type": "execute_result"
    }
   ],
   "source": [
    "# Look at the top 10 rows of the data frame. \n",
    "df_raw.head(10)"
   ]
  },
  {
   "cell_type": "code",
   "execution_count": 4,
   "id": "06b49df9-70a7-45fc-8c7e-188720ea28be",
   "metadata": {
    "execution": {
     "iopub.execute_input": "2024-10-12T07:36:22.962796Z",
     "iopub.status.busy": "2024-10-12T07:36:22.962796Z",
     "iopub.status.idle": "2024-10-12T07:36:22.975871Z",
     "shell.execute_reply": "2024-10-12T07:36:22.975871Z",
     "shell.execute_reply.started": "2024-10-12T07:36:22.962796Z"
    }
   },
   "outputs": [
    {
     "data": {
      "text/plain": [
       "UDI                          int64\n",
       "Product ID                  object\n",
       "Type                        object\n",
       "Air temperature [K]        float64\n",
       "Process temperature [K]    float64\n",
       "Rotational speed [rpm]       int64\n",
       "Torque [Nm]                float64\n",
       "Tool wear [min]              int64\n",
       "Target                       int64\n",
       "Failure Type                object\n",
       "dtype: object"
      ]
     },
     "execution_count": 4,
     "metadata": {},
     "output_type": "execute_result"
    }
   ],
   "source": [
    "# Confirm the data types of the columns\n",
    "df_raw.dtypes"
   ]
  },
  {
   "cell_type": "markdown",
   "id": "6e0ac5c3-c7d1-4fd9-8f62-42f000ead742",
   "metadata": {},
   "source": [
    "- Based on the data exploration in the previous notebook, the columns \"**UDI**\" and \"**Product ID**\" are both identifier that are **unique for every record**. Therefore, they are **dropped** from the data frame because they won't be helpful in the classification models.  \n",
    "- As for the column \"**Failure Type**\", it is also **dropped** as it provides detailed information about the machine failures, which conflicted with our purpose of predicting the \"Target\" column.  "
   ]
  },
  {
   "cell_type": "code",
   "execution_count": 5,
   "id": "afe306a7-6762-4fe4-a3f1-06f527d04969",
   "metadata": {
    "execution": {
     "iopub.execute_input": "2024-10-12T07:37:24.626084Z",
     "iopub.status.busy": "2024-10-12T07:37:24.626084Z",
     "iopub.status.idle": "2024-10-12T07:37:24.641646Z",
     "shell.execute_reply": "2024-10-12T07:37:24.640643Z",
     "shell.execute_reply.started": "2024-10-12T07:37:24.626084Z"
    }
   },
   "outputs": [],
   "source": [
    "# Select only columns that we need. \n",
    "df_main = df_raw.drop(columns = [\"UDI\", \"Product ID\", \"Failure Type\"])"
   ]
  },
  {
   "cell_type": "code",
   "execution_count": 6,
   "id": "e6917a51-4baa-45b0-bb33-dd5873bd1188",
   "metadata": {
    "execution": {
     "iopub.execute_input": "2024-10-12T07:38:03.642370Z",
     "iopub.status.busy": "2024-10-12T07:38:03.641374Z",
     "iopub.status.idle": "2024-10-12T07:38:03.662642Z",
     "shell.execute_reply": "2024-10-12T07:38:03.661641Z",
     "shell.execute_reply.started": "2024-10-12T07:38:03.642370Z"
    }
   },
   "outputs": [
    {
     "data": {
      "text/plain": [
       "Target\n",
       "0    9661\n",
       "1     339\n",
       "Name: count, dtype: int64"
      ]
     },
     "execution_count": 6,
     "metadata": {},
     "output_type": "execute_result"
    }
   ],
   "source": [
    "# Check the number of records for each Target value. \n",
    "df_main[\"Target\"].value_counts()"
   ]
  },
  {
   "cell_type": "markdown",
   "id": "8e73620d-afb9-49de-b806-6fe9ff82f958",
   "metadata": {},
   "source": [
    "Because the machine learning models in scikit-learn are unable to handle categorical variables directly, here I convert the corresponding column (in this case only \"Type\" columns) into **dummy variables**.  \n",
    "How **dummy variables** work is that, for example, for the \"Type\" column that has three unique values (L, M and H), it will create three new variables for each product type, with values of 0s and 1s (or True and False) to indicate whether that record falls under that product type. "
   ]
  },
  {
   "cell_type": "code",
   "execution_count": 7,
   "id": "fe8a6223-5d11-4f18-afc4-674fb1678162",
   "metadata": {
    "execution": {
     "iopub.execute_input": "2024-10-12T07:38:09.745255Z",
     "iopub.status.busy": "2024-10-12T07:38:09.745255Z",
     "iopub.status.idle": "2024-10-12T07:38:09.763855Z",
     "shell.execute_reply": "2024-10-12T07:38:09.763345Z",
     "shell.execute_reply.started": "2024-10-12T07:38:09.745255Z"
    }
   },
   "outputs": [
    {
     "data": {
      "text/html": [
       "<div>\n",
       "<style scoped>\n",
       "    .dataframe tbody tr th:only-of-type {\n",
       "        vertical-align: middle;\n",
       "    }\n",
       "\n",
       "    .dataframe tbody tr th {\n",
       "        vertical-align: top;\n",
       "    }\n",
       "\n",
       "    .dataframe thead th {\n",
       "        text-align: right;\n",
       "    }\n",
       "</style>\n",
       "<table border=\"1\" class=\"dataframe\">\n",
       "  <thead>\n",
       "    <tr style=\"text-align: right;\">\n",
       "      <th></th>\n",
       "      <th>Air temperature [K]</th>\n",
       "      <th>Process temperature [K]</th>\n",
       "      <th>Rotational speed [rpm]</th>\n",
       "      <th>Torque [Nm]</th>\n",
       "      <th>Tool wear [min]</th>\n",
       "      <th>Target</th>\n",
       "      <th>Type_H</th>\n",
       "      <th>Type_L</th>\n",
       "      <th>Type_M</th>\n",
       "    </tr>\n",
       "  </thead>\n",
       "  <tbody>\n",
       "    <tr>\n",
       "      <th>0</th>\n",
       "      <td>298.1</td>\n",
       "      <td>308.6</td>\n",
       "      <td>1551</td>\n",
       "      <td>42.8</td>\n",
       "      <td>0</td>\n",
       "      <td>0</td>\n",
       "      <td>False</td>\n",
       "      <td>False</td>\n",
       "      <td>True</td>\n",
       "    </tr>\n",
       "    <tr>\n",
       "      <th>1</th>\n",
       "      <td>298.2</td>\n",
       "      <td>308.7</td>\n",
       "      <td>1408</td>\n",
       "      <td>46.3</td>\n",
       "      <td>3</td>\n",
       "      <td>0</td>\n",
       "      <td>False</td>\n",
       "      <td>True</td>\n",
       "      <td>False</td>\n",
       "    </tr>\n",
       "    <tr>\n",
       "      <th>2</th>\n",
       "      <td>298.1</td>\n",
       "      <td>308.5</td>\n",
       "      <td>1498</td>\n",
       "      <td>49.4</td>\n",
       "      <td>5</td>\n",
       "      <td>0</td>\n",
       "      <td>False</td>\n",
       "      <td>True</td>\n",
       "      <td>False</td>\n",
       "    </tr>\n",
       "    <tr>\n",
       "      <th>3</th>\n",
       "      <td>298.2</td>\n",
       "      <td>308.6</td>\n",
       "      <td>1433</td>\n",
       "      <td>39.5</td>\n",
       "      <td>7</td>\n",
       "      <td>0</td>\n",
       "      <td>False</td>\n",
       "      <td>True</td>\n",
       "      <td>False</td>\n",
       "    </tr>\n",
       "    <tr>\n",
       "      <th>4</th>\n",
       "      <td>298.2</td>\n",
       "      <td>308.7</td>\n",
       "      <td>1408</td>\n",
       "      <td>40.0</td>\n",
       "      <td>9</td>\n",
       "      <td>0</td>\n",
       "      <td>False</td>\n",
       "      <td>True</td>\n",
       "      <td>False</td>\n",
       "    </tr>\n",
       "    <tr>\n",
       "      <th>5</th>\n",
       "      <td>298.1</td>\n",
       "      <td>308.6</td>\n",
       "      <td>1425</td>\n",
       "      <td>41.9</td>\n",
       "      <td>11</td>\n",
       "      <td>0</td>\n",
       "      <td>False</td>\n",
       "      <td>False</td>\n",
       "      <td>True</td>\n",
       "    </tr>\n",
       "    <tr>\n",
       "      <th>6</th>\n",
       "      <td>298.1</td>\n",
       "      <td>308.6</td>\n",
       "      <td>1558</td>\n",
       "      <td>42.4</td>\n",
       "      <td>14</td>\n",
       "      <td>0</td>\n",
       "      <td>False</td>\n",
       "      <td>True</td>\n",
       "      <td>False</td>\n",
       "    </tr>\n",
       "    <tr>\n",
       "      <th>7</th>\n",
       "      <td>298.1</td>\n",
       "      <td>308.6</td>\n",
       "      <td>1527</td>\n",
       "      <td>40.2</td>\n",
       "      <td>16</td>\n",
       "      <td>0</td>\n",
       "      <td>False</td>\n",
       "      <td>True</td>\n",
       "      <td>False</td>\n",
       "    </tr>\n",
       "    <tr>\n",
       "      <th>8</th>\n",
       "      <td>298.3</td>\n",
       "      <td>308.7</td>\n",
       "      <td>1667</td>\n",
       "      <td>28.6</td>\n",
       "      <td>18</td>\n",
       "      <td>0</td>\n",
       "      <td>False</td>\n",
       "      <td>False</td>\n",
       "      <td>True</td>\n",
       "    </tr>\n",
       "    <tr>\n",
       "      <th>9</th>\n",
       "      <td>298.5</td>\n",
       "      <td>309.0</td>\n",
       "      <td>1741</td>\n",
       "      <td>28.0</td>\n",
       "      <td>21</td>\n",
       "      <td>0</td>\n",
       "      <td>False</td>\n",
       "      <td>False</td>\n",
       "      <td>True</td>\n",
       "    </tr>\n",
       "  </tbody>\n",
       "</table>\n",
       "</div>"
      ],
      "text/plain": [
       "   Air temperature [K]  Process temperature [K]  Rotational speed [rpm]  \\\n",
       "0                298.1                    308.6                    1551   \n",
       "1                298.2                    308.7                    1408   \n",
       "2                298.1                    308.5                    1498   \n",
       "3                298.2                    308.6                    1433   \n",
       "4                298.2                    308.7                    1408   \n",
       "5                298.1                    308.6                    1425   \n",
       "6                298.1                    308.6                    1558   \n",
       "7                298.1                    308.6                    1527   \n",
       "8                298.3                    308.7                    1667   \n",
       "9                298.5                    309.0                    1741   \n",
       "\n",
       "   Torque [Nm]  Tool wear [min]  Target  Type_H  Type_L  Type_M  \n",
       "0         42.8                0       0   False   False    True  \n",
       "1         46.3                3       0   False    True   False  \n",
       "2         49.4                5       0   False    True   False  \n",
       "3         39.5                7       0   False    True   False  \n",
       "4         40.0                9       0   False    True   False  \n",
       "5         41.9               11       0   False   False    True  \n",
       "6         42.4               14       0   False    True   False  \n",
       "7         40.2               16       0   False    True   False  \n",
       "8         28.6               18       0   False   False    True  \n",
       "9         28.0               21       0   False   False    True  "
      ]
     },
     "metadata": {},
     "output_type": "display_data"
    }
   ],
   "source": [
    "# For categorical variables, convert them to dummy variables\n",
    "df_main = pd.get_dummies(df_main, columns = [\"Type\"])\n",
    "display(df_main.head(10))"
   ]
  },
  {
   "cell_type": "markdown",
   "id": "5fd629a0-2181-4ff6-9820-cb5ca9e511ac",
   "metadata": {},
   "source": [
    "Now that the processing has been done for the content of the dataset, two more things to do is:  \n",
    "- Splitting the full dataset into **output variable** (the variable that will be predicted) & **input variables** (variables that will be used to predict the output variable).\n",
    "- Splitting both input & output variables into **training set** (the set of data that will be used to train the model) & **test set** (the set of data that will be used to test the accuracy or quality of the trained model). This split are usually done at a fixed ratio, which in this case **6:4 split** will be used for the training:test sets of data. "
   ]
  },
  {
   "cell_type": "code",
   "execution_count": 8,
   "id": "0073b9c6-c227-4a8f-9d2a-9a12749e8ab1",
   "metadata": {
    "execution": {
     "iopub.execute_input": "2024-10-12T07:38:33.907996Z",
     "iopub.status.busy": "2024-10-12T07:38:33.906844Z",
     "iopub.status.idle": "2024-10-12T07:38:33.915935Z",
     "shell.execute_reply": "2024-10-12T07:38:33.915935Z",
     "shell.execute_reply.started": "2024-10-12T07:38:33.907996Z"
    }
   },
   "outputs": [],
   "source": [
    "# Split into input & output variables \n",
    "X = df_main.drop(columns = \"Target\")\n",
    "y = df_main[\"Target\"]\n",
    "\n",
    "# Split into training & test sets\n",
    "X_train, X_test, y_train, y_test = train_test_split(X, y, test_size = 0.4, random_state=0)"
   ]
  },
  {
   "cell_type": "markdown",
   "id": "1c046220-0fd5-4233-9d69-a5fda0dc7778",
   "metadata": {},
   "source": [
    "------"
   ]
  },
  {
   "cell_type": "markdown",
   "id": "30a74069-20e1-4eb7-b820-029ff5d0f388",
   "metadata": {},
   "source": [
    "### 2b. Random Forest Classifier"
   ]
  },
  {
   "cell_type": "markdown",
   "id": "7a6b7191-1cd1-4155-bd0c-891994907ed3",
   "metadata": {},
   "source": [
    "First, a **simple model is created**, and the **training set of data is fitted into the model**.  \n",
    "- Default model parameters are used tentatively, as tuning will be performed later.  \n",
    "\n",
    "After that, the **fitted model is used to perform prediction on the test set** of data, and then the accuracy is evaluated by comparing the predicted result with the actual result.  \n",
    "\n",
    "Also, as observed previously, the **number of non-failure records is much higher than failure records**, and therefore, a high accuracy can be easily achieved by correctly predicting most of the non-failure records, which may make it more difficult to identify failure records.  \n",
    "Therefore, on top of the **accuracy score**, [**F1 score**](https://en.wikipedia.org/wiki/F-score) is also calculated, and the performance of the models will be based on both metrics. "
   ]
  },
  {
   "cell_type": "code",
   "execution_count": 9,
   "id": "f700bd3e-c563-4090-a2e9-86f3bbb11cc8",
   "metadata": {
    "execution": {
     "iopub.execute_input": "2024-10-12T07:38:44.094454Z",
     "iopub.status.busy": "2024-10-12T07:38:44.094454Z",
     "iopub.status.idle": "2024-10-12T07:38:44.497132Z",
     "shell.execute_reply": "2024-10-12T07:38:44.497132Z",
     "shell.execute_reply.started": "2024-10-12T07:38:44.094454Z"
    }
   },
   "outputs": [
    {
     "data": {
      "text/html": [
       "<style>#sk-container-id-1 {\n",
       "  /* Definition of color scheme common for light and dark mode */\n",
       "  --sklearn-color-text: black;\n",
       "  --sklearn-color-line: gray;\n",
       "  /* Definition of color scheme for unfitted estimators */\n",
       "  --sklearn-color-unfitted-level-0: #fff5e6;\n",
       "  --sklearn-color-unfitted-level-1: #f6e4d2;\n",
       "  --sklearn-color-unfitted-level-2: #ffe0b3;\n",
       "  --sklearn-color-unfitted-level-3: chocolate;\n",
       "  /* Definition of color scheme for fitted estimators */\n",
       "  --sklearn-color-fitted-level-0: #f0f8ff;\n",
       "  --sklearn-color-fitted-level-1: #d4ebff;\n",
       "  --sklearn-color-fitted-level-2: #b3dbfd;\n",
       "  --sklearn-color-fitted-level-3: cornflowerblue;\n",
       "\n",
       "  /* Specific color for light theme */\n",
       "  --sklearn-color-text-on-default-background: var(--sg-text-color, var(--theme-code-foreground, var(--jp-content-font-color1, black)));\n",
       "  --sklearn-color-background: var(--sg-background-color, var(--theme-background, var(--jp-layout-color0, white)));\n",
       "  --sklearn-color-border-box: var(--sg-text-color, var(--theme-code-foreground, var(--jp-content-font-color1, black)));\n",
       "  --sklearn-color-icon: #696969;\n",
       "\n",
       "  @media (prefers-color-scheme: dark) {\n",
       "    /* Redefinition of color scheme for dark theme */\n",
       "    --sklearn-color-text-on-default-background: var(--sg-text-color, var(--theme-code-foreground, var(--jp-content-font-color1, white)));\n",
       "    --sklearn-color-background: var(--sg-background-color, var(--theme-background, var(--jp-layout-color0, #111)));\n",
       "    --sklearn-color-border-box: var(--sg-text-color, var(--theme-code-foreground, var(--jp-content-font-color1, white)));\n",
       "    --sklearn-color-icon: #878787;\n",
       "  }\n",
       "}\n",
       "\n",
       "#sk-container-id-1 {\n",
       "  color: var(--sklearn-color-text);\n",
       "}\n",
       "\n",
       "#sk-container-id-1 pre {\n",
       "  padding: 0;\n",
       "}\n",
       "\n",
       "#sk-container-id-1 input.sk-hidden--visually {\n",
       "  border: 0;\n",
       "  clip: rect(1px 1px 1px 1px);\n",
       "  clip: rect(1px, 1px, 1px, 1px);\n",
       "  height: 1px;\n",
       "  margin: -1px;\n",
       "  overflow: hidden;\n",
       "  padding: 0;\n",
       "  position: absolute;\n",
       "  width: 1px;\n",
       "}\n",
       "\n",
       "#sk-container-id-1 div.sk-dashed-wrapped {\n",
       "  border: 1px dashed var(--sklearn-color-line);\n",
       "  margin: 0 0.4em 0.5em 0.4em;\n",
       "  box-sizing: border-box;\n",
       "  padding-bottom: 0.4em;\n",
       "  background-color: var(--sklearn-color-background);\n",
       "}\n",
       "\n",
       "#sk-container-id-1 div.sk-container {\n",
       "  /* jupyter's `normalize.less` sets `[hidden] { display: none; }`\n",
       "     but bootstrap.min.css set `[hidden] { display: none !important; }`\n",
       "     so we also need the `!important` here to be able to override the\n",
       "     default hidden behavior on the sphinx rendered scikit-learn.org.\n",
       "     See: https://github.com/scikit-learn/scikit-learn/issues/21755 */\n",
       "  display: inline-block !important;\n",
       "  position: relative;\n",
       "}\n",
       "\n",
       "#sk-container-id-1 div.sk-text-repr-fallback {\n",
       "  display: none;\n",
       "}\n",
       "\n",
       "div.sk-parallel-item,\n",
       "div.sk-serial,\n",
       "div.sk-item {\n",
       "  /* draw centered vertical line to link estimators */\n",
       "  background-image: linear-gradient(var(--sklearn-color-text-on-default-background), var(--sklearn-color-text-on-default-background));\n",
       "  background-size: 2px 100%;\n",
       "  background-repeat: no-repeat;\n",
       "  background-position: center center;\n",
       "}\n",
       "\n",
       "/* Parallel-specific style estimator block */\n",
       "\n",
       "#sk-container-id-1 div.sk-parallel-item::after {\n",
       "  content: \"\";\n",
       "  width: 100%;\n",
       "  border-bottom: 2px solid var(--sklearn-color-text-on-default-background);\n",
       "  flex-grow: 1;\n",
       "}\n",
       "\n",
       "#sk-container-id-1 div.sk-parallel {\n",
       "  display: flex;\n",
       "  align-items: stretch;\n",
       "  justify-content: center;\n",
       "  background-color: var(--sklearn-color-background);\n",
       "  position: relative;\n",
       "}\n",
       "\n",
       "#sk-container-id-1 div.sk-parallel-item {\n",
       "  display: flex;\n",
       "  flex-direction: column;\n",
       "}\n",
       "\n",
       "#sk-container-id-1 div.sk-parallel-item:first-child::after {\n",
       "  align-self: flex-end;\n",
       "  width: 50%;\n",
       "}\n",
       "\n",
       "#sk-container-id-1 div.sk-parallel-item:last-child::after {\n",
       "  align-self: flex-start;\n",
       "  width: 50%;\n",
       "}\n",
       "\n",
       "#sk-container-id-1 div.sk-parallel-item:only-child::after {\n",
       "  width: 0;\n",
       "}\n",
       "\n",
       "/* Serial-specific style estimator block */\n",
       "\n",
       "#sk-container-id-1 div.sk-serial {\n",
       "  display: flex;\n",
       "  flex-direction: column;\n",
       "  align-items: center;\n",
       "  background-color: var(--sklearn-color-background);\n",
       "  padding-right: 1em;\n",
       "  padding-left: 1em;\n",
       "}\n",
       "\n",
       "\n",
       "/* Toggleable style: style used for estimator/Pipeline/ColumnTransformer box that is\n",
       "clickable and can be expanded/collapsed.\n",
       "- Pipeline and ColumnTransformer use this feature and define the default style\n",
       "- Estimators will overwrite some part of the style using the `sk-estimator` class\n",
       "*/\n",
       "\n",
       "/* Pipeline and ColumnTransformer style (default) */\n",
       "\n",
       "#sk-container-id-1 div.sk-toggleable {\n",
       "  /* Default theme specific background. It is overwritten whether we have a\n",
       "  specific estimator or a Pipeline/ColumnTransformer */\n",
       "  background-color: var(--sklearn-color-background);\n",
       "}\n",
       "\n",
       "/* Toggleable label */\n",
       "#sk-container-id-1 label.sk-toggleable__label {\n",
       "  cursor: pointer;\n",
       "  display: block;\n",
       "  width: 100%;\n",
       "  margin-bottom: 0;\n",
       "  padding: 0.5em;\n",
       "  box-sizing: border-box;\n",
       "  text-align: center;\n",
       "}\n",
       "\n",
       "#sk-container-id-1 label.sk-toggleable__label-arrow:before {\n",
       "  /* Arrow on the left of the label */\n",
       "  content: \"▸\";\n",
       "  float: left;\n",
       "  margin-right: 0.25em;\n",
       "  color: var(--sklearn-color-icon);\n",
       "}\n",
       "\n",
       "#sk-container-id-1 label.sk-toggleable__label-arrow:hover:before {\n",
       "  color: var(--sklearn-color-text);\n",
       "}\n",
       "\n",
       "/* Toggleable content - dropdown */\n",
       "\n",
       "#sk-container-id-1 div.sk-toggleable__content {\n",
       "  max-height: 0;\n",
       "  max-width: 0;\n",
       "  overflow: hidden;\n",
       "  text-align: left;\n",
       "  /* unfitted */\n",
       "  background-color: var(--sklearn-color-unfitted-level-0);\n",
       "}\n",
       "\n",
       "#sk-container-id-1 div.sk-toggleable__content.fitted {\n",
       "  /* fitted */\n",
       "  background-color: var(--sklearn-color-fitted-level-0);\n",
       "}\n",
       "\n",
       "#sk-container-id-1 div.sk-toggleable__content pre {\n",
       "  margin: 0.2em;\n",
       "  border-radius: 0.25em;\n",
       "  color: var(--sklearn-color-text);\n",
       "  /* unfitted */\n",
       "  background-color: var(--sklearn-color-unfitted-level-0);\n",
       "}\n",
       "\n",
       "#sk-container-id-1 div.sk-toggleable__content.fitted pre {\n",
       "  /* unfitted */\n",
       "  background-color: var(--sklearn-color-fitted-level-0);\n",
       "}\n",
       "\n",
       "#sk-container-id-1 input.sk-toggleable__control:checked~div.sk-toggleable__content {\n",
       "  /* Expand drop-down */\n",
       "  max-height: 200px;\n",
       "  max-width: 100%;\n",
       "  overflow: auto;\n",
       "}\n",
       "\n",
       "#sk-container-id-1 input.sk-toggleable__control:checked~label.sk-toggleable__label-arrow:before {\n",
       "  content: \"▾\";\n",
       "}\n",
       "\n",
       "/* Pipeline/ColumnTransformer-specific style */\n",
       "\n",
       "#sk-container-id-1 div.sk-label input.sk-toggleable__control:checked~label.sk-toggleable__label {\n",
       "  color: var(--sklearn-color-text);\n",
       "  background-color: var(--sklearn-color-unfitted-level-2);\n",
       "}\n",
       "\n",
       "#sk-container-id-1 div.sk-label.fitted input.sk-toggleable__control:checked~label.sk-toggleable__label {\n",
       "  background-color: var(--sklearn-color-fitted-level-2);\n",
       "}\n",
       "\n",
       "/* Estimator-specific style */\n",
       "\n",
       "/* Colorize estimator box */\n",
       "#sk-container-id-1 div.sk-estimator input.sk-toggleable__control:checked~label.sk-toggleable__label {\n",
       "  /* unfitted */\n",
       "  background-color: var(--sklearn-color-unfitted-level-2);\n",
       "}\n",
       "\n",
       "#sk-container-id-1 div.sk-estimator.fitted input.sk-toggleable__control:checked~label.sk-toggleable__label {\n",
       "  /* fitted */\n",
       "  background-color: var(--sklearn-color-fitted-level-2);\n",
       "}\n",
       "\n",
       "#sk-container-id-1 div.sk-label label.sk-toggleable__label,\n",
       "#sk-container-id-1 div.sk-label label {\n",
       "  /* The background is the default theme color */\n",
       "  color: var(--sklearn-color-text-on-default-background);\n",
       "}\n",
       "\n",
       "/* On hover, darken the color of the background */\n",
       "#sk-container-id-1 div.sk-label:hover label.sk-toggleable__label {\n",
       "  color: var(--sklearn-color-text);\n",
       "  background-color: var(--sklearn-color-unfitted-level-2);\n",
       "}\n",
       "\n",
       "/* Label box, darken color on hover, fitted */\n",
       "#sk-container-id-1 div.sk-label.fitted:hover label.sk-toggleable__label.fitted {\n",
       "  color: var(--sklearn-color-text);\n",
       "  background-color: var(--sklearn-color-fitted-level-2);\n",
       "}\n",
       "\n",
       "/* Estimator label */\n",
       "\n",
       "#sk-container-id-1 div.sk-label label {\n",
       "  font-family: monospace;\n",
       "  font-weight: bold;\n",
       "  display: inline-block;\n",
       "  line-height: 1.2em;\n",
       "}\n",
       "\n",
       "#sk-container-id-1 div.sk-label-container {\n",
       "  text-align: center;\n",
       "}\n",
       "\n",
       "/* Estimator-specific */\n",
       "#sk-container-id-1 div.sk-estimator {\n",
       "  font-family: monospace;\n",
       "  border: 1px dotted var(--sklearn-color-border-box);\n",
       "  border-radius: 0.25em;\n",
       "  box-sizing: border-box;\n",
       "  margin-bottom: 0.5em;\n",
       "  /* unfitted */\n",
       "  background-color: var(--sklearn-color-unfitted-level-0);\n",
       "}\n",
       "\n",
       "#sk-container-id-1 div.sk-estimator.fitted {\n",
       "  /* fitted */\n",
       "  background-color: var(--sklearn-color-fitted-level-0);\n",
       "}\n",
       "\n",
       "/* on hover */\n",
       "#sk-container-id-1 div.sk-estimator:hover {\n",
       "  /* unfitted */\n",
       "  background-color: var(--sklearn-color-unfitted-level-2);\n",
       "}\n",
       "\n",
       "#sk-container-id-1 div.sk-estimator.fitted:hover {\n",
       "  /* fitted */\n",
       "  background-color: var(--sklearn-color-fitted-level-2);\n",
       "}\n",
       "\n",
       "/* Specification for estimator info (e.g. \"i\" and \"?\") */\n",
       "\n",
       "/* Common style for \"i\" and \"?\" */\n",
       "\n",
       ".sk-estimator-doc-link,\n",
       "a:link.sk-estimator-doc-link,\n",
       "a:visited.sk-estimator-doc-link {\n",
       "  float: right;\n",
       "  font-size: smaller;\n",
       "  line-height: 1em;\n",
       "  font-family: monospace;\n",
       "  background-color: var(--sklearn-color-background);\n",
       "  border-radius: 1em;\n",
       "  height: 1em;\n",
       "  width: 1em;\n",
       "  text-decoration: none !important;\n",
       "  margin-left: 1ex;\n",
       "  /* unfitted */\n",
       "  border: var(--sklearn-color-unfitted-level-1) 1pt solid;\n",
       "  color: var(--sklearn-color-unfitted-level-1);\n",
       "}\n",
       "\n",
       ".sk-estimator-doc-link.fitted,\n",
       "a:link.sk-estimator-doc-link.fitted,\n",
       "a:visited.sk-estimator-doc-link.fitted {\n",
       "  /* fitted */\n",
       "  border: var(--sklearn-color-fitted-level-1) 1pt solid;\n",
       "  color: var(--sklearn-color-fitted-level-1);\n",
       "}\n",
       "\n",
       "/* On hover */\n",
       "div.sk-estimator:hover .sk-estimator-doc-link:hover,\n",
       ".sk-estimator-doc-link:hover,\n",
       "div.sk-label-container:hover .sk-estimator-doc-link:hover,\n",
       ".sk-estimator-doc-link:hover {\n",
       "  /* unfitted */\n",
       "  background-color: var(--sklearn-color-unfitted-level-3);\n",
       "  color: var(--sklearn-color-background);\n",
       "  text-decoration: none;\n",
       "}\n",
       "\n",
       "div.sk-estimator.fitted:hover .sk-estimator-doc-link.fitted:hover,\n",
       ".sk-estimator-doc-link.fitted:hover,\n",
       "div.sk-label-container:hover .sk-estimator-doc-link.fitted:hover,\n",
       ".sk-estimator-doc-link.fitted:hover {\n",
       "  /* fitted */\n",
       "  background-color: var(--sklearn-color-fitted-level-3);\n",
       "  color: var(--sklearn-color-background);\n",
       "  text-decoration: none;\n",
       "}\n",
       "\n",
       "/* Span, style for the box shown on hovering the info icon */\n",
       ".sk-estimator-doc-link span {\n",
       "  display: none;\n",
       "  z-index: 9999;\n",
       "  position: relative;\n",
       "  font-weight: normal;\n",
       "  right: .2ex;\n",
       "  padding: .5ex;\n",
       "  margin: .5ex;\n",
       "  width: min-content;\n",
       "  min-width: 20ex;\n",
       "  max-width: 50ex;\n",
       "  color: var(--sklearn-color-text);\n",
       "  box-shadow: 2pt 2pt 4pt #999;\n",
       "  /* unfitted */\n",
       "  background: var(--sklearn-color-unfitted-level-0);\n",
       "  border: .5pt solid var(--sklearn-color-unfitted-level-3);\n",
       "}\n",
       "\n",
       ".sk-estimator-doc-link.fitted span {\n",
       "  /* fitted */\n",
       "  background: var(--sklearn-color-fitted-level-0);\n",
       "  border: var(--sklearn-color-fitted-level-3);\n",
       "}\n",
       "\n",
       ".sk-estimator-doc-link:hover span {\n",
       "  display: block;\n",
       "}\n",
       "\n",
       "/* \"?\"-specific style due to the `<a>` HTML tag */\n",
       "\n",
       "#sk-container-id-1 a.estimator_doc_link {\n",
       "  float: right;\n",
       "  font-size: 1rem;\n",
       "  line-height: 1em;\n",
       "  font-family: monospace;\n",
       "  background-color: var(--sklearn-color-background);\n",
       "  border-radius: 1rem;\n",
       "  height: 1rem;\n",
       "  width: 1rem;\n",
       "  text-decoration: none;\n",
       "  /* unfitted */\n",
       "  color: var(--sklearn-color-unfitted-level-1);\n",
       "  border: var(--sklearn-color-unfitted-level-1) 1pt solid;\n",
       "}\n",
       "\n",
       "#sk-container-id-1 a.estimator_doc_link.fitted {\n",
       "  /* fitted */\n",
       "  border: var(--sklearn-color-fitted-level-1) 1pt solid;\n",
       "  color: var(--sklearn-color-fitted-level-1);\n",
       "}\n",
       "\n",
       "/* On hover */\n",
       "#sk-container-id-1 a.estimator_doc_link:hover {\n",
       "  /* unfitted */\n",
       "  background-color: var(--sklearn-color-unfitted-level-3);\n",
       "  color: var(--sklearn-color-background);\n",
       "  text-decoration: none;\n",
       "}\n",
       "\n",
       "#sk-container-id-1 a.estimator_doc_link.fitted:hover {\n",
       "  /* fitted */\n",
       "  background-color: var(--sklearn-color-fitted-level-3);\n",
       "}\n",
       "</style><div id=\"sk-container-id-1\" class=\"sk-top-container\"><div class=\"sk-text-repr-fallback\"><pre>RandomForestClassifier()</pre><b>In a Jupyter environment, please rerun this cell to show the HTML representation or trust the notebook. <br />On GitHub, the HTML representation is unable to render, please try loading this page with nbviewer.org.</b></div><div class=\"sk-container\" hidden><div class=\"sk-item\"><div class=\"sk-estimator fitted sk-toggleable\"><input class=\"sk-toggleable__control sk-hidden--visually\" id=\"sk-estimator-id-1\" type=\"checkbox\" checked><label for=\"sk-estimator-id-1\" class=\"sk-toggleable__label fitted sk-toggleable__label-arrow fitted\">&nbsp;&nbsp;RandomForestClassifier<a class=\"sk-estimator-doc-link fitted\" rel=\"noreferrer\" target=\"_blank\" href=\"https://scikit-learn.org/1.5/modules/generated/sklearn.ensemble.RandomForestClassifier.html\">?<span>Documentation for RandomForestClassifier</span></a><span class=\"sk-estimator-doc-link fitted\">i<span>Fitted</span></span></label><div class=\"sk-toggleable__content fitted\"><pre>RandomForestClassifier()</pre></div> </div></div></div></div>"
      ],
      "text/plain": [
       "RandomForestClassifier()"
      ]
     },
     "execution_count": 9,
     "metadata": {},
     "output_type": "execute_result"
    }
   ],
   "source": [
    "# Create and fit the model. \n",
    "clf_rf = RandomForestClassifier(n_estimators = 100)\n",
    "clf_rf.fit(X_train, y_train)"
   ]
  },
  {
   "cell_type": "code",
   "execution_count": 10,
   "id": "88f71fa0-6db2-4f25-ba95-4faa897462cc",
   "metadata": {
    "execution": {
     "iopub.execute_input": "2024-10-12T07:38:45.401127Z",
     "iopub.status.busy": "2024-10-12T07:38:45.401127Z",
     "iopub.status.idle": "2024-10-12T07:38:45.461060Z",
     "shell.execute_reply": "2024-10-12T07:38:45.461060Z",
     "shell.execute_reply.started": "2024-10-12T07:38:45.401127Z"
    }
   },
   "outputs": [
    {
     "name": "stdout",
     "output_type": "stream",
     "text": [
      "Accuracy Score: 0.9825\n",
      "F1 Score: 0.6428571428571429\n"
     ]
    },
    {
     "data": {
      "text/html": [
       "<div>\n",
       "<style scoped>\n",
       "    .dataframe tbody tr th:only-of-type {\n",
       "        vertical-align: middle;\n",
       "    }\n",
       "\n",
       "    .dataframe tbody tr th {\n",
       "        vertical-align: top;\n",
       "    }\n",
       "\n",
       "    .dataframe thead th {\n",
       "        text-align: right;\n",
       "    }\n",
       "</style>\n",
       "<table border=\"1\" class=\"dataframe\">\n",
       "  <thead>\n",
       "    <tr style=\"text-align: right;\">\n",
       "      <th>col_0</th>\n",
       "      <th>0</th>\n",
       "      <th>1</th>\n",
       "    </tr>\n",
       "    <tr>\n",
       "      <th>Target</th>\n",
       "      <th></th>\n",
       "      <th></th>\n",
       "    </tr>\n",
       "  </thead>\n",
       "  <tbody>\n",
       "    <tr>\n",
       "      <th>0</th>\n",
       "      <td>3867</td>\n",
       "      <td>10</td>\n",
       "    </tr>\n",
       "    <tr>\n",
       "      <th>1</th>\n",
       "      <td>60</td>\n",
       "      <td>63</td>\n",
       "    </tr>\n",
       "  </tbody>\n",
       "</table>\n",
       "</div>"
      ],
      "text/plain": [
       "col_0      0   1\n",
       "Target          \n",
       "0       3867  10\n",
       "1         60  63"
      ]
     },
     "metadata": {},
     "output_type": "display_data"
    }
   ],
   "source": [
    "# Perform prediction on the test data by using the trained model. \n",
    "y_pred = clf_rf.predict(X_test)\n",
    "\n",
    "# Check accuracy score, F1 score & confusion matrix by comparing the predicted result with the actual result. \n",
    "print(\"Accuracy Score: \" + str(accuracy_score(y_test, y_pred)))\n",
    "print(\"F1 Score: \" + str(f1_score(y_test, y_pred)))\n",
    "display(pd.crosstab(y_test, y_pred))"
   ]
  },
  {
   "cell_type": "markdown",
   "id": "4165b660-862b-4597-ad11-3eed8410f2e9",
   "metadata": {},
   "source": [
    "The **accuracy** obtained from the basic Random Forest model is at **98.25%**, which is already quite good.  \n",
    "The **F1 score** obtained here is at **~64.3%**, which is acceptable but could be better. "
   ]
  },
  {
   "cell_type": "markdown",
   "id": "c3312519-22f6-4d59-b54f-c715562d54b3",
   "metadata": {},
   "source": [
    "Next, **Cross Validation (CV)** is performed, which takes in the full sets of input & output variables (before splitting into training & test sets), creating different combinations of training & test set splits, and then performing model training & evaluation on each of them.  \n",
    "This is done to avoid overfitting the model just by using one set of training & test data. "
   ]
  },
  {
   "cell_type": "code",
   "execution_count": 11,
   "id": "b3fb7561-b0d5-4ac7-82da-bc00d31b20b6",
   "metadata": {
    "execution": {
     "iopub.execute_input": "2024-10-12T07:48:32.916419Z",
     "iopub.status.busy": "2024-10-12T07:48:32.916419Z",
     "iopub.status.idle": "2024-10-12T07:48:37.184657Z",
     "shell.execute_reply": "2024-10-12T07:48:37.184145Z",
     "shell.execute_reply.started": "2024-10-12T07:48:32.916419Z"
    }
   },
   "outputs": [
    {
     "name": "stdout",
     "output_type": "stream",
     "text": [
      "Average train score (Accuracy): 0.9999666666666667\n",
      "Average train score (F1 Score): 0.9994789935349067\n",
      "Average test score (Accuracy): 0.9806999999999999\n",
      "Average test score (F1 Score): 0.6380209545716806\n"
     ]
    }
   ],
   "source": [
    "# Cross validation\n",
    "cv = ShuffleSplit(n_splits = 10, test_size = 0.4, random_state = 0)\n",
    "# list_cv_score = cross_val_score(clf_rf, X, y, cv=cv)\n",
    "list_cv_score = cross_validate(clf_rf, X, y, cv=cv, scoring = [\"accuracy\", \"f1\"], return_train_score = True)\n",
    "# print(list_cv_score)\n",
    "print(\"Average train score (Accuracy): \" + str(sum(list_cv_score[\"train_accuracy\"])/len(list_cv_score[\"train_accuracy\"])))\n",
    "print(\"Average train score (F1 Score): \" + str(sum(list_cv_score[\"train_f1\"])/len(list_cv_score[\"train_f1\"])))\n",
    "print(\"Average test score (Accuracy): \" + str(sum(list_cv_score[\"test_accuracy\"])/len(list_cv_score[\"test_accuracy\"])))\n",
    "print(\"Average test score (F1 Score): \" + str(sum(list_cv_score[\"test_f1\"])/len(list_cv_score[\"test_f1\"])))"
   ]
  },
  {
   "cell_type": "markdown",
   "id": "aac93d58-e49d-4185-8d7c-3f4f6a6b8048",
   "metadata": {},
   "source": [
    "The average **accuracy score** obtained from the Cross Validation is at **~98.07%**, which reduced slightly but still quite good.  \n",
    "The average **F1 score** here is at **~63.8%**, which is also slightly lower but also still good enough. "
   ]
  },
  {
   "cell_type": "markdown",
   "id": "db24ce41-95bc-4345-a55d-8114a04e3b58",
   "metadata": {},
   "source": [
    "Then, **Parameter Tuning** is done by using the **Grid Search** algorithm.  \n",
    "Here, a list of values for selected parameter(s) are defined, and then the model training & evaluation will be performed on each combination to find out the combination that works the best. "
   ]
  },
  {
   "cell_type": "code",
   "execution_count": 12,
   "id": "62b563f5-f68e-448d-a6e1-8be6ba518378",
   "metadata": {
    "execution": {
     "iopub.execute_input": "2024-10-12T07:51:01.044905Z",
     "iopub.status.busy": "2024-10-12T07:51:01.044905Z",
     "iopub.status.idle": "2024-10-12T07:51:38.264577Z",
     "shell.execute_reply": "2024-10-12T07:51:38.263578Z",
     "shell.execute_reply.started": "2024-10-12T07:51:01.044905Z"
    }
   },
   "outputs": [
    {
     "name": "stdout",
     "output_type": "stream",
     "text": [
      "Fitting 10 folds for each of 8 candidates, totalling 80 fits\n",
      "Best Parameter: {'n_estimators': 150}\n",
      "F1 Score of the Best Parameter: 0.5669487141022719\n"
     ]
    }
   ],
   "source": [
    "# Grid Search / Parameter tuning\n",
    "param_grid = [\n",
    "    {\"n_estimators\": [10, 20, 50, 100, 150, 200, 300, 500]}\n",
    "]\n",
    "clf_rf_gs = GridSearchCV(clf_rf, param_grid, cv = cv, scoring = [\"accuracy\", \"f1\"], refit = \"f1\", return_train_score = True, verbose = 1)\n",
    "clf_rf_gs.fit(X_train, y_train)\n",
    "\n",
    "print(\"Best Parameter: \" + str(clf_rf_gs.best_params_))\n",
    "print(\"F1 Score of the Best Parameter: \" + str(clf_rf_gs.best_score_))\n",
    "# To see full results, use: clf_rf_gs.cv_results_"
   ]
  },
  {
   "cell_type": "code",
   "execution_count": 13,
   "id": "df2dbff9-49c4-40d2-bdbe-b32fe6c8a41a",
   "metadata": {
    "execution": {
     "iopub.execute_input": "2024-10-12T07:51:38.266575Z",
     "iopub.status.busy": "2024-10-12T07:51:38.265575Z",
     "iopub.status.idle": "2024-10-12T07:51:38.312013Z",
     "shell.execute_reply": "2024-10-12T07:51:38.311615Z",
     "shell.execute_reply.started": "2024-10-12T07:51:38.266575Z"
    }
   },
   "outputs": [
    {
     "name": "stdout",
     "output_type": "stream",
     "text": [
      "Accuracy Score: 0.98275\n",
      "F1 Score: 0.6532663316582915\n"
     ]
    },
    {
     "data": {
      "text/html": [
       "<div>\n",
       "<style scoped>\n",
       "    .dataframe tbody tr th:only-of-type {\n",
       "        vertical-align: middle;\n",
       "    }\n",
       "\n",
       "    .dataframe tbody tr th {\n",
       "        vertical-align: top;\n",
       "    }\n",
       "\n",
       "    .dataframe thead th {\n",
       "        text-align: right;\n",
       "    }\n",
       "</style>\n",
       "<table border=\"1\" class=\"dataframe\">\n",
       "  <thead>\n",
       "    <tr style=\"text-align: right;\">\n",
       "      <th>col_0</th>\n",
       "      <th>0</th>\n",
       "      <th>1</th>\n",
       "    </tr>\n",
       "    <tr>\n",
       "      <th>Target</th>\n",
       "      <th></th>\n",
       "      <th></th>\n",
       "    </tr>\n",
       "  </thead>\n",
       "  <tbody>\n",
       "    <tr>\n",
       "      <th>0</th>\n",
       "      <td>3866</td>\n",
       "      <td>11</td>\n",
       "    </tr>\n",
       "    <tr>\n",
       "      <th>1</th>\n",
       "      <td>58</td>\n",
       "      <td>65</td>\n",
       "    </tr>\n",
       "  </tbody>\n",
       "</table>\n",
       "</div>"
      ],
      "text/plain": [
       "col_0      0   1\n",
       "Target          \n",
       "0       3866  11\n",
       "1         58  65"
      ]
     },
     "metadata": {},
     "output_type": "display_data"
    }
   ],
   "source": [
    "# Perform prediction on the test data by using the trained Grid Search model. \n",
    "y_pred = clf_rf_gs.predict(X_test)\n",
    "\n",
    "# Check accuracy score, F1 score & confusion matrix by comparing the predicted result with the actual result. \n",
    "print(\"Accuracy Score: \" + str(accuracy_score(y_test, y_pred)))\n",
    "print(\"F1 Score: \" + str(f1_score(y_test, y_pred)))\n",
    "display(pd.crosstab(y_test, y_pred))"
   ]
  },
  {
   "cell_type": "markdown",
   "id": "9786d672-1c65-4af8-9b21-d0c1a29b2ab7",
   "metadata": {},
   "source": [
    "It can be seen that the best parameter selected is using 150 estimators, slightly higher the default parameter of 100 estimators.  \n",
    "The **accuracy and F1 score** obtained are both slightly higher than the previous models, which is at **~98.28% and ~65.33% respectively**.  "
   ]
  },
  {
   "cell_type": "markdown",
   "id": "969b8fc7-fb55-4927-960c-dcbbc2e7acb0",
   "metadata": {},
   "source": [
    "Some of the models have the **feature importance** attribute, which is able to provide information on the percentage of **contribution of each feature** (input variable) towards the model. "
   ]
  },
  {
   "cell_type": "code",
   "execution_count": 14,
   "id": "df2243e5-3e2a-4c3c-9d75-aead87300680",
   "metadata": {
    "execution": {
     "iopub.execute_input": "2024-10-12T07:54:17.708127Z",
     "iopub.status.busy": "2024-10-12T07:54:17.708127Z",
     "iopub.status.idle": "2024-10-12T07:54:17.927054Z",
     "shell.execute_reply": "2024-10-12T07:54:17.925626Z",
     "shell.execute_reply.started": "2024-10-12T07:54:17.708127Z"
    }
   },
   "outputs": [
    {
     "data": {
      "text/plain": [
       "<BarContainer object of 8 artists>"
      ]
     },
     "execution_count": 14,
     "metadata": {},
     "output_type": "execute_result"
    },
    {
     "data": {
      "image/png": "[encoded data removed]",
      "text/plain": [
       "<Figure size 640x480 with 1 Axes>"
      ]
     },
     "metadata": {},
     "output_type": "display_data"
    }
   ],
   "source": [
    "# Get the feature importance values for Random Forest\n",
    "df_feat_imp = pd.DataFrame()\n",
    "df_feat_imp[\"Feature\"] = clf_rf.feature_names_in_\n",
    "df_feat_imp[\"Importance\"] = clf_rf.feature_importances_\n",
    "df_feat_imp = df_feat_imp.sort_values(by = \"Importance\", ascending = True)\n",
    "\n",
    "# Plot a bar chart for the importances\n",
    "plt.barh(y = df_feat_imp[\"Feature\"], width = df_feat_imp[\"Importance\"])"
   ]
  },
  {
   "cell_type": "markdown",
   "id": "e3f9e719-cfa4-4113-81f3-bdf5085688a0",
   "metadata": {},
   "source": [
    "It can be seen that **Torque [Nm]** and **Rotational speed [rpm]** have the **highest contribution** towards the model in predicting whether the records are failure or not. This actually aligned with the insights obtained from the data exploration in the previous notebook, where higher number of failures are observed at certain value ranges. "
   ]
  },
  {
   "cell_type": "markdown",
   "id": "d6c1f6bf-2af4-4722-9760-e6ea1eb84e37",
   "metadata": {},
   "source": [
    "------"
   ]
  },
  {
   "cell_type": "markdown",
   "id": "db2365fb-15ab-4a68-b87c-8855e41d9ab9",
   "metadata": {},
   "source": [
    "### 2c. Gradient Boosting Classifier"
   ]
  },
  {
   "cell_type": "markdown",
   "id": "17c7a3a5-7aed-4fcc-a31a-0f72108e2f96",
   "metadata": {},
   "source": [
    "First, a simple model is created, and the training set of data is fitted into the model.  \n",
    "- Default model parameters are used tentatively, as tuning will be performed later.  \n",
    "\n",
    "After that, the fitted model is used to perform prediction on the test set of data, and then the accuracy is evaluated by comparing the predicted result with the actual result.  "
   ]
  },
  {
   "cell_type": "code",
   "execution_count": 15,
   "id": "e6e3045a-143d-4aec-8251-d6cc1336e1b1",
   "metadata": {
    "execution": {
     "iopub.execute_input": "2024-10-12T07:54:46.198551Z",
     "iopub.status.busy": "2024-10-12T07:54:46.197544Z",
     "iopub.status.idle": "2024-10-12T07:54:46.764979Z",
     "shell.execute_reply": "2024-10-12T07:54:46.764979Z",
     "shell.execute_reply.started": "2024-10-12T07:54:46.198551Z"
    }
   },
   "outputs": [
    {
     "data": {
      "text/html": [
       "<style>#sk-container-id-2 {\n",
       "  /* Definition of color scheme common for light and dark mode */\n",
       "  --sklearn-color-text: black;\n",
       "  --sklearn-color-line: gray;\n",
       "  /* Definition of color scheme for unfitted estimators */\n",
       "  --sklearn-color-unfitted-level-0: #fff5e6;\n",
       "  --sklearn-color-unfitted-level-1: #f6e4d2;\n",
       "  --sklearn-color-unfitted-level-2: #ffe0b3;\n",
       "  --sklearn-color-unfitted-level-3: chocolate;\n",
       "  /* Definition of color scheme for fitted estimators */\n",
       "  --sklearn-color-fitted-level-0: #f0f8ff;\n",
       "  --sklearn-color-fitted-level-1: #d4ebff;\n",
       "  --sklearn-color-fitted-level-2: #b3dbfd;\n",
       "  --sklearn-color-fitted-level-3: cornflowerblue;\n",
       "\n",
       "  /* Specific color for light theme */\n",
       "  --sklearn-color-text-on-default-background: var(--sg-text-color, var(--theme-code-foreground, var(--jp-content-font-color1, black)));\n",
       "  --sklearn-color-background: var(--sg-background-color, var(--theme-background, var(--jp-layout-color0, white)));\n",
       "  --sklearn-color-border-box: var(--sg-text-color, var(--theme-code-foreground, var(--jp-content-font-color1, black)));\n",
       "  --sklearn-color-icon: #696969;\n",
       "\n",
       "  @media (prefers-color-scheme: dark) {\n",
       "    /* Redefinition of color scheme for dark theme */\n",
       "    --sklearn-color-text-on-default-background: var(--sg-text-color, var(--theme-code-foreground, var(--jp-content-font-color1, white)));\n",
       "    --sklearn-color-background: var(--sg-background-color, var(--theme-background, var(--jp-layout-color0, #111)));\n",
       "    --sklearn-color-border-box: var(--sg-text-color, var(--theme-code-foreground, var(--jp-content-font-color1, white)));\n",
       "    --sklearn-color-icon: #878787;\n",
       "  }\n",
       "}\n",
       "\n",
       "#sk-container-id-2 {\n",
       "  color: var(--sklearn-color-text);\n",
       "}\n",
       "\n",
       "#sk-container-id-2 pre {\n",
       "  padding: 0;\n",
       "}\n",
       "\n",
       "#sk-container-id-2 input.sk-hidden--visually {\n",
       "  border: 0;\n",
       "  clip: rect(1px 1px 1px 1px);\n",
       "  clip: rect(1px, 1px, 1px, 1px);\n",
       "  height: 1px;\n",
       "  margin: -1px;\n",
       "  overflow: hidden;\n",
       "  padding: 0;\n",
       "  position: absolute;\n",
       "  width: 1px;\n",
       "}\n",
       "\n",
       "#sk-container-id-2 div.sk-dashed-wrapped {\n",
       "  border: 1px dashed var(--sklearn-color-line);\n",
       "  margin: 0 0.4em 0.5em 0.4em;\n",
       "  box-sizing: border-box;\n",
       "  padding-bottom: 0.4em;\n",
       "  background-color: var(--sklearn-color-background);\n",
       "}\n",
       "\n",
       "#sk-container-id-2 div.sk-container {\n",
       "  /* jupyter's `normalize.less` sets `[hidden] { display: none; }`\n",
       "     but bootstrap.min.css set `[hidden] { display: none !important; }`\n",
       "     so we also need the `!important` here to be able to override the\n",
       "     default hidden behavior on the sphinx rendered scikit-learn.org.\n",
       "     See: https://github.com/scikit-learn/scikit-learn/issues/21755 */\n",
       "  display: inline-block !important;\n",
       "  position: relative;\n",
       "}\n",
       "\n",
       "#sk-container-id-2 div.sk-text-repr-fallback {\n",
       "  display: none;\n",
       "}\n",
       "\n",
       "div.sk-parallel-item,\n",
       "div.sk-serial,\n",
       "div.sk-item {\n",
       "  /* draw centered vertical line to link estimators */\n",
       "  background-image: linear-gradient(var(--sklearn-color-text-on-default-background), var(--sklearn-color-text-on-default-background));\n",
       "  background-size: 2px 100%;\n",
       "  background-repeat: no-repeat;\n",
       "  background-position: center center;\n",
       "}\n",
       "\n",
       "/* Parallel-specific style estimator block */\n",
       "\n",
       "#sk-container-id-2 div.sk-parallel-item::after {\n",
       "  content: \"\";\n",
       "  width: 100%;\n",
       "  border-bottom: 2px solid var(--sklearn-color-text-on-default-background);\n",
       "  flex-grow: 1;\n",
       "}\n",
       "\n",
       "#sk-container-id-2 div.sk-parallel {\n",
       "  display: flex;\n",
       "  align-items: stretch;\n",
       "  justify-content: center;\n",
       "  background-color: var(--sklearn-color-background);\n",
       "  position: relative;\n",
       "}\n",
       "\n",
       "#sk-container-id-2 div.sk-parallel-item {\n",
       "  display: flex;\n",
       "  flex-direction: column;\n",
       "}\n",
       "\n",
       "#sk-container-id-2 div.sk-parallel-item:first-child::after {\n",
       "  align-self: flex-end;\n",
       "  width: 50%;\n",
       "}\n",
       "\n",
       "#sk-container-id-2 div.sk-parallel-item:last-child::after {\n",
       "  align-self: flex-start;\n",
       "  width: 50%;\n",
       "}\n",
       "\n",
       "#sk-container-id-2 div.sk-parallel-item:only-child::after {\n",
       "  width: 0;\n",
       "}\n",
       "\n",
       "/* Serial-specific style estimator block */\n",
       "\n",
       "#sk-container-id-2 div.sk-serial {\n",
       "  display: flex;\n",
       "  flex-direction: column;\n",
       "  align-items: center;\n",
       "  background-color: var(--sklearn-color-background);\n",
       "  padding-right: 1em;\n",
       "  padding-left: 1em;\n",
       "}\n",
       "\n",
       "\n",
       "/* Toggleable style: style used for estimator/Pipeline/ColumnTransformer box that is\n",
       "clickable and can be expanded/collapsed.\n",
       "- Pipeline and ColumnTransformer use this feature and define the default style\n",
       "- Estimators will overwrite some part of the style using the `sk-estimator` class\n",
       "*/\n",
       "\n",
       "/* Pipeline and ColumnTransformer style (default) */\n",
       "\n",
       "#sk-container-id-2 div.sk-toggleable {\n",
       "  /* Default theme specific background. It is overwritten whether we have a\n",
       "  specific estimator or a Pipeline/ColumnTransformer */\n",
       "  background-color: var(--sklearn-color-background);\n",
       "}\n",
       "\n",
       "/* Toggleable label */\n",
       "#sk-container-id-2 label.sk-toggleable__label {\n",
       "  cursor: pointer;\n",
       "  display: block;\n",
       "  width: 100%;\n",
       "  margin-bottom: 0;\n",
       "  padding: 0.5em;\n",
       "  box-sizing: border-box;\n",
       "  text-align: center;\n",
       "}\n",
       "\n",
       "#sk-container-id-2 label.sk-toggleable__label-arrow:before {\n",
       "  /* Arrow on the left of the label */\n",
       "  content: \"▸\";\n",
       "  float: left;\n",
       "  margin-right: 0.25em;\n",
       "  color: var(--sklearn-color-icon);\n",
       "}\n",
       "\n",
       "#sk-container-id-2 label.sk-toggleable__label-arrow:hover:before {\n",
       "  color: var(--sklearn-color-text);\n",
       "}\n",
       "\n",
       "/* Toggleable content - dropdown */\n",
       "\n",
       "#sk-container-id-2 div.sk-toggleable__content {\n",
       "  max-height: 0;\n",
       "  max-width: 0;\n",
       "  overflow: hidden;\n",
       "  text-align: left;\n",
       "  /* unfitted */\n",
       "  background-color: var(--sklearn-color-unfitted-level-0);\n",
       "}\n",
       "\n",
       "#sk-container-id-2 div.sk-toggleable__content.fitted {\n",
       "  /* fitted */\n",
       "  background-color: var(--sklearn-color-fitted-level-0);\n",
       "}\n",
       "\n",
       "#sk-container-id-2 div.sk-toggleable__content pre {\n",
       "  margin: 0.2em;\n",
       "  border-radius: 0.25em;\n",
       "  color: var(--sklearn-color-text);\n",
       "  /* unfitted */\n",
       "  background-color: var(--sklearn-color-unfitted-level-0);\n",
       "}\n",
       "\n",
       "#sk-container-id-2 div.sk-toggleable__content.fitted pre {\n",
       "  /* unfitted */\n",
       "  background-color: var(--sklearn-color-fitted-level-0);\n",
       "}\n",
       "\n",
       "#sk-container-id-2 input.sk-toggleable__control:checked~div.sk-toggleable__content {\n",
       "  /* Expand drop-down */\n",
       "  max-height: 200px;\n",
       "  max-width: 100%;\n",
       "  overflow: auto;\n",
       "}\n",
       "\n",
       "#sk-container-id-2 input.sk-toggleable__control:checked~label.sk-toggleable__label-arrow:before {\n",
       "  content: \"▾\";\n",
       "}\n",
       "\n",
       "/* Pipeline/ColumnTransformer-specific style */\n",
       "\n",
       "#sk-container-id-2 div.sk-label input.sk-toggleable__control:checked~label.sk-toggleable__label {\n",
       "  color: var(--sklearn-color-text);\n",
       "  background-color: var(--sklearn-color-unfitted-level-2);\n",
       "}\n",
       "\n",
       "#sk-container-id-2 div.sk-label.fitted input.sk-toggleable__control:checked~label.sk-toggleable__label {\n",
       "  background-color: var(--sklearn-color-fitted-level-2);\n",
       "}\n",
       "\n",
       "/* Estimator-specific style */\n",
       "\n",
       "/* Colorize estimator box */\n",
       "#sk-container-id-2 div.sk-estimator input.sk-toggleable__control:checked~label.sk-toggleable__label {\n",
       "  /* unfitted */\n",
       "  background-color: var(--sklearn-color-unfitted-level-2);\n",
       "}\n",
       "\n",
       "#sk-container-id-2 div.sk-estimator.fitted input.sk-toggleable__control:checked~label.sk-toggleable__label {\n",
       "  /* fitted */\n",
       "  background-color: var(--sklearn-color-fitted-level-2);\n",
       "}\n",
       "\n",
       "#sk-container-id-2 div.sk-label label.sk-toggleable__label,\n",
       "#sk-container-id-2 div.sk-label label {\n",
       "  /* The background is the default theme color */\n",
       "  color: var(--sklearn-color-text-on-default-background);\n",
       "}\n",
       "\n",
       "/* On hover, darken the color of the background */\n",
       "#sk-container-id-2 div.sk-label:hover label.sk-toggleable__label {\n",
       "  color: var(--sklearn-color-text);\n",
       "  background-color: var(--sklearn-color-unfitted-level-2);\n",
       "}\n",
       "\n",
       "/* Label box, darken color on hover, fitted */\n",
       "#sk-container-id-2 div.sk-label.fitted:hover label.sk-toggleable__label.fitted {\n",
       "  color: var(--sklearn-color-text);\n",
       "  background-color: var(--sklearn-color-fitted-level-2);\n",
       "}\n",
       "\n",
       "/* Estimator label */\n",
       "\n",
       "#sk-container-id-2 div.sk-label label {\n",
       "  font-family: monospace;\n",
       "  font-weight: bold;\n",
       "  display: inline-block;\n",
       "  line-height: 1.2em;\n",
       "}\n",
       "\n",
       "#sk-container-id-2 div.sk-label-container {\n",
       "  text-align: center;\n",
       "}\n",
       "\n",
       "/* Estimator-specific */\n",
       "#sk-container-id-2 div.sk-estimator {\n",
       "  font-family: monospace;\n",
       "  border: 1px dotted var(--sklearn-color-border-box);\n",
       "  border-radius: 0.25em;\n",
       "  box-sizing: border-box;\n",
       "  margin-bottom: 0.5em;\n",
       "  /* unfitted */\n",
       "  background-color: var(--sklearn-color-unfitted-level-0);\n",
       "}\n",
       "\n",
       "#sk-container-id-2 div.sk-estimator.fitted {\n",
       "  /* fitted */\n",
       "  background-color: var(--sklearn-color-fitted-level-0);\n",
       "}\n",
       "\n",
       "/* on hover */\n",
       "#sk-container-id-2 div.sk-estimator:hover {\n",
       "  /* unfitted */\n",
       "  background-color: var(--sklearn-color-unfitted-level-2);\n",
       "}\n",
       "\n",
       "#sk-container-id-2 div.sk-estimator.fitted:hover {\n",
       "  /* fitted */\n",
       "  background-color: var(--sklearn-color-fitted-level-2);\n",
       "}\n",
       "\n",
       "/* Specification for estimator info (e.g. \"i\" and \"?\") */\n",
       "\n",
       "/* Common style for \"i\" and \"?\" */\n",
       "\n",
       ".sk-estimator-doc-link,\n",
       "a:link.sk-estimator-doc-link,\n",
       "a:visited.sk-estimator-doc-link {\n",
       "  float: right;\n",
       "  font-size: smaller;\n",
       "  line-height: 1em;\n",
       "  font-family: monospace;\n",
       "  background-color: var(--sklearn-color-background);\n",
       "  border-radius: 1em;\n",
       "  height: 1em;\n",
       "  width: 1em;\n",
       "  text-decoration: none !important;\n",
       "  margin-left: 1ex;\n",
       "  /* unfitted */\n",
       "  border: var(--sklearn-color-unfitted-level-1) 1pt solid;\n",
       "  color: var(--sklearn-color-unfitted-level-1);\n",
       "}\n",
       "\n",
       ".sk-estimator-doc-link.fitted,\n",
       "a:link.sk-estimator-doc-link.fitted,\n",
       "a:visited.sk-estimator-doc-link.fitted {\n",
       "  /* fitted */\n",
       "  border: var(--sklearn-color-fitted-level-1) 1pt solid;\n",
       "  color: var(--sklearn-color-fitted-level-1);\n",
       "}\n",
       "\n",
       "/* On hover */\n",
       "div.sk-estimator:hover .sk-estimator-doc-link:hover,\n",
       ".sk-estimator-doc-link:hover,\n",
       "div.sk-label-container:hover .sk-estimator-doc-link:hover,\n",
       ".sk-estimator-doc-link:hover {\n",
       "  /* unfitted */\n",
       "  background-color: var(--sklearn-color-unfitted-level-3);\n",
       "  color: var(--sklearn-color-background);\n",
       "  text-decoration: none;\n",
       "}\n",
       "\n",
       "div.sk-estimator.fitted:hover .sk-estimator-doc-link.fitted:hover,\n",
       ".sk-estimator-doc-link.fitted:hover,\n",
       "div.sk-label-container:hover .sk-estimator-doc-link.fitted:hover,\n",
       ".sk-estimator-doc-link.fitted:hover {\n",
       "  /* fitted */\n",
       "  background-color: var(--sklearn-color-fitted-level-3);\n",
       "  color: var(--sklearn-color-background);\n",
       "  text-decoration: none;\n",
       "}\n",
       "\n",
       "/* Span, style for the box shown on hovering the info icon */\n",
       ".sk-estimator-doc-link span {\n",
       "  display: none;\n",
       "  z-index: 9999;\n",
       "  position: relative;\n",
       "  font-weight: normal;\n",
       "  right: .2ex;\n",
       "  padding: .5ex;\n",
       "  margin: .5ex;\n",
       "  width: min-content;\n",
       "  min-width: 20ex;\n",
       "  max-width: 50ex;\n",
       "  color: var(--sklearn-color-text);\n",
       "  box-shadow: 2pt 2pt 4pt #999;\n",
       "  /* unfitted */\n",
       "  background: var(--sklearn-color-unfitted-level-0);\n",
       "  border: .5pt solid var(--sklearn-color-unfitted-level-3);\n",
       "}\n",
       "\n",
       ".sk-estimator-doc-link.fitted span {\n",
       "  /* fitted */\n",
       "  background: var(--sklearn-color-fitted-level-0);\n",
       "  border: var(--sklearn-color-fitted-level-3);\n",
       "}\n",
       "\n",
       ".sk-estimator-doc-link:hover span {\n",
       "  display: block;\n",
       "}\n",
       "\n",
       "/* \"?\"-specific style due to the `<a>` HTML tag */\n",
       "\n",
       "#sk-container-id-2 a.estimator_doc_link {\n",
       "  float: right;\n",
       "  font-size: 1rem;\n",
       "  line-height: 1em;\n",
       "  font-family: monospace;\n",
       "  background-color: var(--sklearn-color-background);\n",
       "  border-radius: 1rem;\n",
       "  height: 1rem;\n",
       "  width: 1rem;\n",
       "  text-decoration: none;\n",
       "  /* unfitted */\n",
       "  color: var(--sklearn-color-unfitted-level-1);\n",
       "  border: var(--sklearn-color-unfitted-level-1) 1pt solid;\n",
       "}\n",
       "\n",
       "#sk-container-id-2 a.estimator_doc_link.fitted {\n",
       "  /* fitted */\n",
       "  border: var(--sklearn-color-fitted-level-1) 1pt solid;\n",
       "  color: var(--sklearn-color-fitted-level-1);\n",
       "}\n",
       "\n",
       "/* On hover */\n",
       "#sk-container-id-2 a.estimator_doc_link:hover {\n",
       "  /* unfitted */\n",
       "  background-color: var(--sklearn-color-unfitted-level-3);\n",
       "  color: var(--sklearn-color-background);\n",
       "  text-decoration: none;\n",
       "}\n",
       "\n",
       "#sk-container-id-2 a.estimator_doc_link.fitted:hover {\n",
       "  /* fitted */\n",
       "  background-color: var(--sklearn-color-fitted-level-3);\n",
       "}\n",
       "</style><div id=\"sk-container-id-2\" class=\"sk-top-container\"><div class=\"sk-text-repr-fallback\"><pre>GradientBoostingClassifier()</pre><b>In a Jupyter environment, please rerun this cell to show the HTML representation or trust the notebook. <br />On GitHub, the HTML representation is unable to render, please try loading this page with nbviewer.org.</b></div><div class=\"sk-container\" hidden><div class=\"sk-item\"><div class=\"sk-estimator fitted sk-toggleable\"><input class=\"sk-toggleable__control sk-hidden--visually\" id=\"sk-estimator-id-2\" type=\"checkbox\" checked><label for=\"sk-estimator-id-2\" class=\"sk-toggleable__label fitted sk-toggleable__label-arrow fitted\">&nbsp;&nbsp;GradientBoostingClassifier<a class=\"sk-estimator-doc-link fitted\" rel=\"noreferrer\" target=\"_blank\" href=\"https://scikit-learn.org/1.5/modules/generated/sklearn.ensemble.GradientBoostingClassifier.html\">?<span>Documentation for GradientBoostingClassifier</span></a><span class=\"sk-estimator-doc-link fitted\">i<span>Fitted</span></span></label><div class=\"sk-toggleable__content fitted\"><pre>GradientBoostingClassifier()</pre></div> </div></div></div></div>"
      ],
      "text/plain": [
       "GradientBoostingClassifier()"
      ]
     },
     "execution_count": 15,
     "metadata": {},
     "output_type": "execute_result"
    }
   ],
   "source": [
    "# Create and fit the model. \n",
    "clf_gb = GradientBoostingClassifier(n_estimators = 100)\n",
    "clf_gb.fit(X_train, y_train)"
   ]
  },
  {
   "cell_type": "code",
   "execution_count": 16,
   "id": "8ef205f4-196c-4140-a687-513279c2d4a2",
   "metadata": {
    "execution": {
     "iopub.execute_input": "2024-10-12T07:54:47.318919Z",
     "iopub.status.busy": "2024-10-12T07:54:47.318919Z",
     "iopub.status.idle": "2024-10-12T07:54:47.341224Z",
     "shell.execute_reply": "2024-10-12T07:54:47.340220Z",
     "shell.execute_reply.started": "2024-10-12T07:54:47.318919Z"
    }
   },
   "outputs": [
    {
     "name": "stdout",
     "output_type": "stream",
     "text": [
      "Accuracy Score: 0.98275\n",
      "F1 Score: 0.6820276497695853\n"
     ]
    },
    {
     "data": {
      "text/html": [
       "<div>\n",
       "<style scoped>\n",
       "    .dataframe tbody tr th:only-of-type {\n",
       "        vertical-align: middle;\n",
       "    }\n",
       "\n",
       "    .dataframe tbody tr th {\n",
       "        vertical-align: top;\n",
       "    }\n",
       "\n",
       "    .dataframe thead th {\n",
       "        text-align: right;\n",
       "    }\n",
       "</style>\n",
       "<table border=\"1\" class=\"dataframe\">\n",
       "  <thead>\n",
       "    <tr style=\"text-align: right;\">\n",
       "      <th>col_0</th>\n",
       "      <th>0</th>\n",
       "      <th>1</th>\n",
       "    </tr>\n",
       "    <tr>\n",
       "      <th>Target</th>\n",
       "      <th></th>\n",
       "      <th></th>\n",
       "    </tr>\n",
       "  </thead>\n",
       "  <tbody>\n",
       "    <tr>\n",
       "      <th>0</th>\n",
       "      <td>3857</td>\n",
       "      <td>20</td>\n",
       "    </tr>\n",
       "    <tr>\n",
       "      <th>1</th>\n",
       "      <td>49</td>\n",
       "      <td>74</td>\n",
       "    </tr>\n",
       "  </tbody>\n",
       "</table>\n",
       "</div>"
      ],
      "text/plain": [
       "col_0      0   1\n",
       "Target          \n",
       "0       3857  20\n",
       "1         49  74"
      ]
     },
     "metadata": {},
     "output_type": "display_data"
    }
   ],
   "source": [
    "# Perform prediction on the test data by using the trained model. \n",
    "y_pred = clf_gb.predict(X_test)\n",
    "\n",
    "# Check accuracy score, F1 score & confusion matrix by comparing the predicted result with the actual result. \n",
    "print(\"Accuracy Score: \" + str(accuracy_score(y_test, y_pred)))\n",
    "print(\"F1 Score: \" + str(f1_score(y_test, y_pred)))\n",
    "display(pd.crosstab(y_test, y_pred))"
   ]
  },
  {
   "cell_type": "markdown",
   "id": "60fa9455-d0e7-43b7-8ae1-3c8c395aa287",
   "metadata": {},
   "source": [
    "The **accuracy** obtained from the basic Gradient Boosting model is at **~98.28%**, which is the same as the tuned Random Forest Classifier before. \n",
    "The **F1 score** obtained here is at **~68.2%**, a lot higher than all the Random Forest Classifier models before. "
   ]
  },
  {
   "cell_type": "markdown",
   "id": "8d29ad0e-2f2d-4a92-92c3-234f48760ff2",
   "metadata": {},
   "source": [
    "Next, **Cross Validation (CV)** is performed, which takes in the full sets of input & output variables (before splitting into training & test sets), creating different combinations of training & test set splits, and then performing model training & evaluation on each of them.  \n",
    "This is done to avoid overfitting the model just by using one set of training & test data. "
   ]
  },
  {
   "cell_type": "code",
   "execution_count": 17,
   "id": "947114fa-ffe8-4180-a137-95c46e3e7c8c",
   "metadata": {
    "execution": {
     "iopub.execute_input": "2024-10-12T07:56:24.275932Z",
     "iopub.status.busy": "2024-10-12T07:56:24.274818Z",
     "iopub.status.idle": "2024-10-12T07:56:29.851773Z",
     "shell.execute_reply": "2024-10-12T07:56:29.850777Z",
     "shell.execute_reply.started": "2024-10-12T07:56:24.275932Z"
    }
   },
   "outputs": [
    {
     "name": "stdout",
     "output_type": "stream",
     "text": [
      "Average train score (Accuracy): 0.9925833333333334\n",
      "Average train score (F1 Score): 0.8777717391410805\n",
      "Average test score (Accuracy): 0.983125\n",
      "Average test score (F1 Score): 0.7074828918179084\n"
     ]
    }
   ],
   "source": [
    "# Cross validation\n",
    "cv = ShuffleSplit(n_splits = 10, test_size = 0.4, random_state = 0)\n",
    "list_cv_score = cross_validate(clf_gb, X, y, cv=cv, scoring = [\"accuracy\", \"f1\"], return_train_score = True)\n",
    "# print(list_cv_score)\n",
    "print(\"Average train score (Accuracy): \" + str(sum(list_cv_score[\"train_accuracy\"])/len(list_cv_score[\"train_accuracy\"])))\n",
    "print(\"Average train score (F1 Score): \" + str(sum(list_cv_score[\"train_f1\"])/len(list_cv_score[\"train_f1\"])))\n",
    "print(\"Average test score (Accuracy): \" + str(sum(list_cv_score[\"test_accuracy\"])/len(list_cv_score[\"test_accuracy\"])))\n",
    "print(\"Average test score (F1 Score): \" + str(sum(list_cv_score[\"test_f1\"])/len(list_cv_score[\"test_f1\"])))"
   ]
  },
  {
   "cell_type": "markdown",
   "id": "326c466a-0bd3-43d8-a0a3-b074723610be",
   "metadata": {},
   "source": [
    "The average **accuracy** score obtained from the Cross Validation is at **~98.31%**, which is even higher than before.  \n",
    "The average **F1 score** obtained is at **~70.75%**, which also outperformed the previous model. "
   ]
  },
  {
   "cell_type": "markdown",
   "id": "191d5692-e280-4cd2-94c0-168ab1be8007",
   "metadata": {},
   "source": [
    "Then, **Parameter Tuning** is done by using the **Grid Search** algorithm.  \n",
    "Here, a list of values for selected parameter(s) are defined, and then the model training & evaluation will be performed on each combination to find out the combination that works the best. "
   ]
  },
  {
   "cell_type": "code",
   "execution_count": 18,
   "id": "acc6461b-0e8b-4f28-bb15-f7c206b74ab9",
   "metadata": {
    "execution": {
     "iopub.execute_input": "2024-10-12T07:57:56.167776Z",
     "iopub.status.busy": "2024-10-12T07:57:56.167266Z",
     "iopub.status.idle": "2024-10-12T08:00:41.689030Z",
     "shell.execute_reply": "2024-10-12T08:00:41.689030Z",
     "shell.execute_reply.started": "2024-10-12T07:57:56.167776Z"
    }
   },
   "outputs": [
    {
     "name": "stdout",
     "output_type": "stream",
     "text": [
      "Fitting 10 folds for each of 36 candidates, totalling 360 fits\n",
      "Best Parameter: {'learning_rate': 0.2, 'max_depth': 4, 'n_estimators': 100}\n",
      "F1 Score of the Best Parameter: 0.7102914290971418\n"
     ]
    }
   ],
   "source": [
    "# Grid Search / Parameter tuning\n",
    "param_grid = [\n",
    "    {\n",
    "        \"n_estimators\": [50, 100, 150, 200], \n",
    "        \"max_depth\": [2, 3, 4], \n",
    "        \"learning_rate\": [0.05, 0.1, 0.2]\n",
    "    }\n",
    "]\n",
    "clf_gb_gs = GridSearchCV(clf_gb, param_grid, cv = cv, scoring = [\"accuracy\", \"f1\"], refit = \"f1\", return_train_score = True, verbose = 1)\n",
    "clf_gb_gs.fit(X_train, y_train)\n",
    "\n",
    "print(\"Best Parameter: \" + str(clf_gb_gs.best_params_))\n",
    "print(\"F1 Score of the Best Parameter: \" + str(clf_gb_gs.best_score_))"
   ]
  },
  {
   "cell_type": "code",
   "execution_count": 19,
   "id": "44f10a4f-a576-480d-84c9-5fee9573bfd3",
   "metadata": {
    "execution": {
     "iopub.execute_input": "2024-10-12T08:00:47.086576Z",
     "iopub.status.busy": "2024-10-12T08:00:47.086576Z",
     "iopub.status.idle": "2024-10-12T08:00:47.110731Z",
     "shell.execute_reply": "2024-10-12T08:00:47.109724Z",
     "shell.execute_reply.started": "2024-10-12T08:00:47.086576Z"
    }
   },
   "outputs": [
    {
     "name": "stdout",
     "output_type": "stream",
     "text": [
      "Accuracy Score: 0.98325\n",
      "F1 Score: 0.7148936170212766\n"
     ]
    },
    {
     "data": {
      "text/html": [
       "<div>\n",
       "<style scoped>\n",
       "    .dataframe tbody tr th:only-of-type {\n",
       "        vertical-align: middle;\n",
       "    }\n",
       "\n",
       "    .dataframe tbody tr th {\n",
       "        vertical-align: top;\n",
       "    }\n",
       "\n",
       "    .dataframe thead th {\n",
       "        text-align: right;\n",
       "    }\n",
       "</style>\n",
       "<table border=\"1\" class=\"dataframe\">\n",
       "  <thead>\n",
       "    <tr style=\"text-align: right;\">\n",
       "      <th>col_0</th>\n",
       "      <th>0</th>\n",
       "      <th>1</th>\n",
       "    </tr>\n",
       "    <tr>\n",
       "      <th>Target</th>\n",
       "      <th></th>\n",
       "      <th></th>\n",
       "    </tr>\n",
       "  </thead>\n",
       "  <tbody>\n",
       "    <tr>\n",
       "      <th>0</th>\n",
       "      <td>3849</td>\n",
       "      <td>28</td>\n",
       "    </tr>\n",
       "    <tr>\n",
       "      <th>1</th>\n",
       "      <td>39</td>\n",
       "      <td>84</td>\n",
       "    </tr>\n",
       "  </tbody>\n",
       "</table>\n",
       "</div>"
      ],
      "text/plain": [
       "col_0      0   1\n",
       "Target          \n",
       "0       3849  28\n",
       "1         39  84"
      ]
     },
     "metadata": {},
     "output_type": "display_data"
    }
   ],
   "source": [
    "# Perform prediction on the test data by using the trained Grid Search model. \n",
    "y_pred = clf_gb_gs.predict(X_test)\n",
    "\n",
    "# Check accuracy score, F1 score & confusion matrix by comparing the predicted result with the actual result. \n",
    "print(\"Accuracy Score: \" + str(accuracy_score(y_test, y_pred)))\n",
    "print(\"F1 Score: \" + str(f1_score(y_test, y_pred)))\n",
    "display(pd.crosstab(y_test, y_pred))"
   ]
  },
  {
   "cell_type": "markdown",
   "id": "3599da25-50e2-4a23-aeba-cefcf7bace64",
   "metadata": {},
   "source": [
    "With more combinations of parameters defined, the model tuning process took longer time to complete, and it resulted in a higher chance to get a better performing model.  \n",
    "Over here, the final **accuracy** obtained is at **~98.33%**, and the **F1 score** obtained is at **~71.49%**, both having the best performance among all models up to now. "
   ]
  },
  {
   "cell_type": "markdown",
   "id": "5e92f3af-9791-482a-a02f-67e6bf3f1c53",
   "metadata": {},
   "source": [
    "Some of the models have the **feature importance** attribute, which is able to provide information on the percentage of **contribution of each feature** (input variable) towards the model. "
   ]
  },
  {
   "cell_type": "code",
   "execution_count": 20,
   "id": "e14efcee-b63d-40d4-82ce-66223f4b78c1",
   "metadata": {
    "execution": {
     "iopub.execute_input": "2024-10-12T08:03:42.955115Z",
     "iopub.status.busy": "2024-10-12T08:03:42.954117Z",
     "iopub.status.idle": "2024-10-12T08:03:43.083184Z",
     "shell.execute_reply": "2024-10-12T08:03:43.082069Z",
     "shell.execute_reply.started": "2024-10-12T08:03:42.955115Z"
    }
   },
   "outputs": [
    {
     "data": {
      "text/plain": [
       "<BarContainer object of 8 artists>"
      ]
     },
     "execution_count": 20,
     "metadata": {},
     "output_type": "execute_result"
    },
    {
     "data": {
      "image/png": "[encoded data removed]",
      "text/plain": [
       "<Figure size 640x480 with 1 Axes>"
      ]
     },
     "metadata": {},
     "output_type": "display_data"
    }
   ],
   "source": [
    "# Get the feature importance values for Random Forest\n",
    "df_feat_imp = pd.DataFrame()\n",
    "df_feat_imp[\"Feature\"] = clf_gb.feature_names_in_\n",
    "df_feat_imp[\"Importance\"] = clf_gb.feature_importances_\n",
    "df_feat_imp = df_feat_imp.sort_values(by = \"Importance\", ascending = True)\n",
    "\n",
    "# Plot a bar chart for the importances\n",
    "plt.barh(y = df_feat_imp[\"Feature\"], width = df_feat_imp[\"Importance\"])"
   ]
  },
  {
   "cell_type": "markdown",
   "id": "dbc4c813-d212-4423-b2ec-cc57029677be",
   "metadata": {},
   "source": [
    "It can be seen that **Torque [Nm]** still has the **highest contribution** towards the model in predicting whether the records are failure or not, while the other four variables are having similar contribution to the model. "
   ]
  },
  {
   "cell_type": "markdown",
   "id": "50d34ead-9603-4e47-a959-fdaad6b56992",
   "metadata": {},
   "source": [
    "------"
   ]
  },
  {
   "cell_type": "markdown",
   "id": "958a9f90-c4d8-431e-9191-fb579fad41d2",
   "metadata": {},
   "source": [
    "### 2d. Saving Models into .joblib files. "
   ]
  },
  {
   "cell_type": "markdown",
   "id": "5900d73c-337f-4da1-9335-e6e47d340fed",
   "metadata": {},
   "source": [
    "After getting a model that has a satisfying performance, **the model can be saved into a .joblib** file.  \n",
    "By doing this, the model can be imported and directly put into use in future, without the need to re-train it from scratch.  \n",
    "\n",
    "One thing to note is that, when fitting data into the model in future, the input variables will need to be in the same sequence as the one used during its training process. Although some models may come with the information of the input variable sequence, it is definitely safer to **save the input variable sequence** into a separate text file for reference. "
   ]
  },
  {
   "cell_type": "code",
   "execution_count": 21,
   "id": "d44f483f-1954-4f4b-905a-6f38bc805d59",
   "metadata": {
    "execution": {
     "iopub.execute_input": "2024-10-12T08:05:01.393913Z",
     "iopub.status.busy": "2024-10-12T08:05:01.392915Z",
     "iopub.status.idle": "2024-10-12T08:05:01.454186Z",
     "shell.execute_reply": "2024-10-12T08:05:01.454186Z",
     "shell.execute_reply.started": "2024-10-12T08:05:01.393913Z"
    }
   },
   "outputs": [
    {
     "data": {
      "text/plain": [
       "['clf_rf_col_seq.txt']"
      ]
     },
     "execution_count": 21,
     "metadata": {},
     "output_type": "execute_result"
    }
   ],
   "source": [
    "# Saving the Random Forest model and the training set column sequence into .joblib file. \n",
    "joblib.dump(clf_rf, \"clf_rf.joblib\")\n",
    "joblib.dump(X_train.columns, \"clf_rf_col_seq.txt\")"
   ]
  },
  {
   "cell_type": "markdown",
   "id": "f42ce3e8-22c5-4ee4-84bc-77fa4beca2aa",
   "metadata": {},
   "source": [
    "With the dump function above, the files are successfully saved into the local folder.  \n",
    "To import the files in future, the load function can be used as follows. "
   ]
  },
  {
   "cell_type": "code",
   "execution_count": 22,
   "id": "955fefd4-1767-43c0-9fa9-121f70f8a9eb",
   "metadata": {
    "execution": {
     "iopub.execute_input": "2024-10-12T08:05:02.482653Z",
     "iopub.status.busy": "2024-10-12T08:05:02.482653Z",
     "iopub.status.idle": "2024-10-12T08:05:02.542184Z",
     "shell.execute_reply": "2024-10-12T08:05:02.542184Z",
     "shell.execute_reply.started": "2024-10-12T08:05:02.482653Z"
    }
   },
   "outputs": [],
   "source": [
    "clf_rf = joblib.load('clf_rf.joblib') \n",
    "clf_rf_col_seq = joblib.load('clf_rf_col_seq.txt') "
   ]
  },
  {
   "cell_type": "markdown",
   "id": "8197b798-ae50-47a7-a6ab-b8c9001bb781",
   "metadata": {},
   "source": [
    "------"
   ]
  },
  {
   "cell_type": "markdown",
   "id": "f2ffed47-03e4-44d9-8a96-c2d6cf725c7f",
   "metadata": {},
   "source": [
    "### Summary"
   ]
  },
  {
   "cell_type": "markdown",
   "id": "82c5acb3-ec67-46ac-bb84-af7651fbf681",
   "metadata": {},
   "source": [
    "| Models                    | Accuracy | F1 Score |\r\n",
    "|---------------------------|----------|----------|\r\n",
    "| Random Forest (CV)        | 98.07%   | 63.8%    |\r\n",
    "| Random Forest (Tuned)     | 98.28%   | 65.33%   |\r\n",
    "| Gradient Boosting (CV)    | 98.31%   | 70.75%   |\r\n",
    "| Gradient Boosting (Tuned) | 98.33%   | 71.49%   |"
   ]
  },
  {
   "cell_type": "markdown",
   "id": "c2692a41-abd3-4519-b74f-f42d18579b38",
   "metadata": {},
   "source": [
    "Based on both metrics, it can be seen that **Gradient Boosting models performed better** than Random Forest models in this classification problem. "
   ]
  },
  {
   "cell_type": "markdown",
   "id": "d4448634-40fb-4731-908c-d425d09235ce",
   "metadata": {},
   "source": [
    "In the next notebook, **deep learning algorithm** will be used to perform the same classification task in an attempt to get a better accuracy. "
   ]
  },
  {
   "cell_type": "code",
   "execution_count": null,
   "id": "8b1ffa77-c70b-41c9-8259-42226f8c5cf4",
   "metadata": {},
   "outputs": [],
   "source": []
  }
 ],
 "metadata": {
  "kernelspec": {
   "display_name": "Python 3 (ipykernel)",
   "language": "python",
   "name": "python3"
  },
  "language_info": {
   "codemirror_mode": {
    "name": "ipython",
    "version": 3
   },
   "file_extension": ".py",
   "mimetype": "text/x-python",
   "name": "python",
   "nbconvert_exporter": "python",
   "pygments_lexer": "ipython3",
   "version": "3.9.13"
  }
 },
 "nbformat": 4,
 "nbformat_minor": 5
}
