{
 "cells": [
  {
   "cell_type": "code",
   "execution_count": 1,
   "id": "cce8513e-a988-48d8-87ed-4236b1bbdaf0",
   "metadata": {
    "execution": {
     "iopub.execute_input": "2024-10-19T10:53:51.838400Z",
     "iopub.status.busy": "2024-10-19T10:53:51.838400Z",
     "iopub.status.idle": "2024-10-19T10:53:53.146006Z",
     "shell.execute_reply": "2024-10-19T10:53:53.146006Z",
     "shell.execute_reply.started": "2024-10-19T10:53:51.838400Z"
    }
   },
   "outputs": [],
   "source": [
    "# Import libraries\n",
    "import pandas as pd\n",
    "import numpy as np\n",
    "from datetime import datetime, timedelta\n",
    "from random import random, randint"
   ]
  },
  {
   "cell_type": "code",
   "execution_count": 2,
   "id": "667b58ef-5123-4231-8332-a10250e0c543",
   "metadata": {
    "execution": {
     "iopub.execute_input": "2024-10-19T10:53:53.147673Z",
     "iopub.status.busy": "2024-10-19T10:53:53.147673Z",
     "iopub.status.idle": "2024-10-19T10:53:53.161534Z",
     "shell.execute_reply": "2024-10-19T10:53:53.161534Z",
     "shell.execute_reply.started": "2024-10-19T10:53:53.147673Z"
    }
   },
   "outputs": [],
   "source": [
    "# Declare global variables \n",
    "str_filename_generator = \"data_generator.xlsx\"\n",
    "\n",
    "# A simple dictionary to help with Serial Number generation later, to put a different prefix based on product range. \n",
    "dict_sn_prefix = {\n",
    "    \"10G_\": \"L\", \n",
    "    \"25G_\": \"M\", \n",
    "    \"100G_\": \"H\", \n",
    "    \"400G_\": \"U\"\n",
    "}\n",
    "\n",
    "# A simple dictionary for an average duration (in seconds) when proceeding between retests and between tests. \n",
    "dict_avg_interval = {\n",
    "    \"1st Retest\": 600,  \n",
    "    \"2nd Retest\": 3600, \n",
    "    \"Between Tests\": 10800\n",
    "}"
   ]
  },
  {
   "cell_type": "code",
   "execution_count": 3,
   "id": "83f068f9-6c49-48b7-ae92-39b2eb310942",
   "metadata": {
    "execution": {
     "iopub.execute_input": "2024-10-19T10:53:56.028168Z",
     "iopub.status.busy": "2024-10-19T10:53:56.028168Z",
     "iopub.status.idle": "2024-10-19T10:53:56.393613Z",
     "shell.execute_reply": "2024-10-19T10:53:56.392614Z",
     "shell.execute_reply.started": "2024-10-19T10:53:56.028168Z"
    }
   },
   "outputs": [
    {
     "name": "stdout",
     "output_type": "stream",
     "text": [
      "(12, 2)\n",
      "(82, 5)\n",
      "(42, 3)\n",
      "(13, 3)\n"
     ]
    }
   ],
   "source": [
    "# Import data from generator Excel file. \n",
    "df_gen_prodqty = pd.read_excel(str_filename_generator, sheet_name = \"Prod_FreshQty\")\n",
    "df_gen_testlist = pd.read_excel(str_filename_generator, sheet_name = \"TestList\")\n",
    "df_gen_machlist = pd.read_excel(str_filename_generator, sheet_name = \"MachineList\")\n",
    "df_gen_calendar = pd.read_excel(str_filename_generator, sheet_name = \"dbo.Calendar\")\n",
    "\n",
    "print(df_gen_prodqty.shape)\n",
    "print(df_gen_testlist.shape)\n",
    "print(df_gen_machlist.shape)\n",
    "print(df_gen_calendar.shape)"
   ]
  },
  {
   "cell_type": "code",
   "execution_count": 4,
   "id": "16129af0-75f0-433f-b0b7-09c6f7b770bc",
   "metadata": {
    "execution": {
     "iopub.execute_input": "2024-10-19T10:53:57.547673Z",
     "iopub.status.busy": "2024-10-19T10:53:57.546523Z",
     "iopub.status.idle": "2024-10-19T10:53:57.564236Z",
     "shell.execute_reply": "2024-10-19T10:53:57.563730Z",
     "shell.execute_reply.started": "2024-10-19T10:53:57.546523Z"
    }
   },
   "outputs": [
    {
     "data": {
      "text/html": [
       "<div>\n",
       "<style scoped>\n",
       "    .dataframe tbody tr th:only-of-type {\n",
       "        vertical-align: middle;\n",
       "    }\n",
       "\n",
       "    .dataframe tbody tr th {\n",
       "        vertical-align: top;\n",
       "    }\n",
       "\n",
       "    .dataframe thead th {\n",
       "        text-align: right;\n",
       "    }\n",
       "</style>\n",
       "<table border=\"1\" class=\"dataframe\">\n",
       "  <thead>\n",
       "    <tr style=\"text-align: right;\">\n",
       "      <th></th>\n",
       "      <th>ProductName</th>\n",
       "      <th>MeanQty</th>\n",
       "      <th>Week</th>\n",
       "      <th>StartDate</th>\n",
       "      <th>EndDate</th>\n",
       "      <th>FreshQty</th>\n",
       "    </tr>\n",
       "  </thead>\n",
       "  <tbody>\n",
       "    <tr>\n",
       "      <th>0</th>\n",
       "      <td>100G_A1</td>\n",
       "      <td>1000</td>\n",
       "      <td>W01</td>\n",
       "      <td>2024-01-01 07:00:00</td>\n",
       "      <td>2024-01-08 06:59:59</td>\n",
       "      <td>1021</td>\n",
       "    </tr>\n",
       "    <tr>\n",
       "      <th>1</th>\n",
       "      <td>100G_A1</td>\n",
       "      <td>1000</td>\n",
       "      <td>W02</td>\n",
       "      <td>2024-01-08 07:00:00</td>\n",
       "      <td>2024-01-15 06:59:59</td>\n",
       "      <td>990</td>\n",
       "    </tr>\n",
       "    <tr>\n",
       "      <th>2</th>\n",
       "      <td>100G_A1</td>\n",
       "      <td>1000</td>\n",
       "      <td>W03</td>\n",
       "      <td>2024-01-15 07:00:00</td>\n",
       "      <td>2024-01-22 06:59:59</td>\n",
       "      <td>755</td>\n",
       "    </tr>\n",
       "    <tr>\n",
       "      <th>3</th>\n",
       "      <td>100G_A1</td>\n",
       "      <td>1000</td>\n",
       "      <td>W04</td>\n",
       "      <td>2024-01-22 07:00:00</td>\n",
       "      <td>2024-01-29 06:59:59</td>\n",
       "      <td>1028</td>\n",
       "    </tr>\n",
       "    <tr>\n",
       "      <th>4</th>\n",
       "      <td>100G_A1</td>\n",
       "      <td>1000</td>\n",
       "      <td>W05</td>\n",
       "      <td>2024-01-29 07:00:00</td>\n",
       "      <td>2024-02-05 06:59:59</td>\n",
       "      <td>786</td>\n",
       "    </tr>\n",
       "  </tbody>\n",
       "</table>\n",
       "</div>"
      ],
      "text/plain": [
       "  ProductName  MeanQty Week           StartDate             EndDate  FreshQty\n",
       "0     100G_A1     1000  W01 2024-01-01 07:00:00 2024-01-08 06:59:59      1021\n",
       "1     100G_A1     1000  W02 2024-01-08 07:00:00 2024-01-15 06:59:59       990\n",
       "2     100G_A1     1000  W03 2024-01-15 07:00:00 2024-01-22 06:59:59       755\n",
       "3     100G_A1     1000  W04 2024-01-22 07:00:00 2024-01-29 06:59:59      1028\n",
       "4     100G_A1     1000  W05 2024-01-29 07:00:00 2024-02-05 06:59:59       786"
      ]
     },
     "metadata": {},
     "output_type": "display_data"
    }
   ],
   "source": [
    "# Create a df for weekly fresh quantity for each products. \n",
    "df_prod_weekly_qty = df_gen_prodqty.merge(right = df_gen_calendar, how = \"cross\")\n",
    "# Generate a random number for the fresh quantity, by using normal distribution with the given mean & std dev = 0.1*mean\n",
    "df_prod_weekly_qty[\"FreshQty\"] = np.random.normal(df_prod_weekly_qty[\"MeanQty\"], df_prod_weekly_qty[\"MeanQty\"]*0.1)\n",
    "df_prod_weekly_qty[\"FreshQty\"] = df_prod_weekly_qty[\"FreshQty\"].astype(\"int\")\n",
    "\n",
    "display(df_prod_weekly_qty.head(5))"
   ]
  },
  {
   "cell_type": "code",
   "execution_count": 5,
   "id": "f5482922-bf46-494d-b8c2-e63bb2daf7eb",
   "metadata": {
    "execution": {
     "iopub.execute_input": "2024-10-19T10:54:02.701465Z",
     "iopub.status.busy": "2024-10-19T10:54:02.700462Z",
     "iopub.status.idle": "2024-10-19T10:54:02.719318Z",
     "shell.execute_reply": "2024-10-19T10:54:02.719318Z",
     "shell.execute_reply.started": "2024-10-19T10:54:02.701465Z"
    }
   },
   "outputs": [
    {
     "name": "stdout",
     "output_type": "stream",
     "text": [
      "(79435, 6)\n"
     ]
    }
   ],
   "source": [
    "# Generate a full module list based on the FreshQty\n",
    "df_module_list = df_prod_weekly_qty.loc[np.repeat(df_prod_weekly_qty.index.values, df_prod_weekly_qty[\"FreshQty\"])]\n",
    "df_module_list = df_module_list.reset_index(drop=True)\n",
    "\n",
    "print(df_module_list.shape)"
   ]
  },
  {
   "cell_type": "code",
   "execution_count": 6,
   "id": "fd6b8d5e-5ecf-4e74-8909-457596b3bc7c",
   "metadata": {
    "execution": {
     "iopub.execute_input": "2024-10-19T10:54:04.836400Z",
     "iopub.status.busy": "2024-10-19T10:54:04.836400Z",
     "iopub.status.idle": "2024-10-19T10:54:11.541774Z",
     "shell.execute_reply": "2024-10-19T10:54:11.540586Z",
     "shell.execute_reply.started": "2024-10-19T10:54:04.836400Z"
    }
   },
   "outputs": [],
   "source": [
    "# Generate a random timestamp for each row. \n",
    "for i in range(0, len(df_module_list)):\n",
    "    # Get the unix timestamp for both start & end date. \n",
    "    temp_startdate_unix = datetime.timestamp(df_module_list.at[i, \"StartDate\"]) * 1000\n",
    "    temp_enddate_unix = datetime.timestamp(df_module_list.at[i, \"EndDate\"]) * 1000\n",
    "\n",
    "    # Generate a random unix timestamp between the start & end date, and convert it back into DateTime and add into the df. \n",
    "    temp_random_unix = randint(temp_startdate_unix, temp_enddate_unix)\n",
    "    temp_random_datetime = datetime.fromtimestamp(temp_random_unix/1000)\n",
    "    df_module_list.at[i, \"TestTimeStamp\"] = temp_random_datetime"
   ]
  },
  {
   "cell_type": "code",
   "execution_count": 7,
   "id": "cfb375d4-9bb4-4c9c-8620-0cced6788e97",
   "metadata": {
    "execution": {
     "iopub.execute_input": "2024-10-19T10:54:11.543046Z",
     "iopub.status.busy": "2024-10-19T10:54:11.543046Z",
     "iopub.status.idle": "2024-10-19T10:54:11.572796Z",
     "shell.execute_reply": "2024-10-19T10:54:11.571626Z",
     "shell.execute_reply.started": "2024-10-19T10:54:11.543046Z"
    }
   },
   "outputs": [],
   "source": [
    "# Drop columns that are no longer required. At this point only the ProductName and TestTimeStamp is required. \n",
    "df_module_list = df_module_list[[\"ProductName\", \"TestTimeStamp\"]]\n",
    "\n",
    "# Sort by timestamp and reset index to shuffle the records, in order to generate running serial number based on timestamp. \n",
    "df_module_list = df_module_list.sort_values(by = [\"TestTimeStamp\"], ascending = [True]).reset_index(drop = True)"
   ]
  },
  {
   "cell_type": "code",
   "execution_count": 8,
   "id": "a4b9e1c8-9015-4c3e-ba02-5bdf292b6adf",
   "metadata": {
    "execution": {
     "iopub.execute_input": "2024-10-19T10:54:11.573304Z",
     "iopub.status.busy": "2024-10-19T10:54:11.573304Z",
     "iopub.status.idle": "2024-10-19T10:54:11.587387Z",
     "shell.execute_reply": "2024-10-19T10:54:11.586313Z",
     "shell.execute_reply.started": "2024-10-19T10:54:11.573304Z"
    }
   },
   "outputs": [
    {
     "data": {
      "text/html": [
       "<div>\n",
       "<style scoped>\n",
       "    .dataframe tbody tr th:only-of-type {\n",
       "        vertical-align: middle;\n",
       "    }\n",
       "\n",
       "    .dataframe tbody tr th {\n",
       "        vertical-align: top;\n",
       "    }\n",
       "\n",
       "    .dataframe thead th {\n",
       "        text-align: right;\n",
       "    }\n",
       "</style>\n",
       "<table border=\"1\" class=\"dataframe\">\n",
       "  <thead>\n",
       "    <tr style=\"text-align: right;\">\n",
       "      <th></th>\n",
       "      <th>ProductName</th>\n",
       "      <th>TestTimeStamp</th>\n",
       "    </tr>\n",
       "  </thead>\n",
       "  <tbody>\n",
       "    <tr>\n",
       "      <th>0</th>\n",
       "      <td>10G_A1</td>\n",
       "      <td>2024-01-01 07:01:04.939</td>\n",
       "    </tr>\n",
       "    <tr>\n",
       "      <th>1</th>\n",
       "      <td>10G_A2</td>\n",
       "      <td>2024-01-01 07:02:17.268</td>\n",
       "    </tr>\n",
       "    <tr>\n",
       "      <th>2</th>\n",
       "      <td>100G_B2</td>\n",
       "      <td>2024-01-01 07:02:26.458</td>\n",
       "    </tr>\n",
       "    <tr>\n",
       "      <th>3</th>\n",
       "      <td>10G_A1</td>\n",
       "      <td>2024-01-01 07:03:00.429</td>\n",
       "    </tr>\n",
       "    <tr>\n",
       "      <th>4</th>\n",
       "      <td>10G_A1</td>\n",
       "      <td>2024-01-01 07:03:39.104</td>\n",
       "    </tr>\n",
       "    <tr>\n",
       "      <th>...</th>\n",
       "      <td>...</td>\n",
       "      <td>...</td>\n",
       "    </tr>\n",
       "    <tr>\n",
       "      <th>79430</th>\n",
       "      <td>10G_A2</td>\n",
       "      <td>2024-04-01 06:51:01.982</td>\n",
       "    </tr>\n",
       "    <tr>\n",
       "      <th>79431</th>\n",
       "      <td>10G_B1</td>\n",
       "      <td>2024-04-01 06:51:43.968</td>\n",
       "    </tr>\n",
       "    <tr>\n",
       "      <th>79432</th>\n",
       "      <td>400G_A2</td>\n",
       "      <td>2024-04-01 06:52:39.651</td>\n",
       "    </tr>\n",
       "    <tr>\n",
       "      <th>79433</th>\n",
       "      <td>25G_B1</td>\n",
       "      <td>2024-04-01 06:53:19.864</td>\n",
       "    </tr>\n",
       "    <tr>\n",
       "      <th>79434</th>\n",
       "      <td>100G_A1</td>\n",
       "      <td>2024-04-01 06:54:52.127</td>\n",
       "    </tr>\n",
       "  </tbody>\n",
       "</table>\n",
       "<p>79435 rows × 2 columns</p>\n",
       "</div>"
      ],
      "text/plain": [
       "      ProductName           TestTimeStamp\n",
       "0          10G_A1 2024-01-01 07:01:04.939\n",
       "1          10G_A2 2024-01-01 07:02:17.268\n",
       "2         100G_B2 2024-01-01 07:02:26.458\n",
       "3          10G_A1 2024-01-01 07:03:00.429\n",
       "4          10G_A1 2024-01-01 07:03:39.104\n",
       "...           ...                     ...\n",
       "79430      10G_A2 2024-04-01 06:51:01.982\n",
       "79431      10G_B1 2024-04-01 06:51:43.968\n",
       "79432     400G_A2 2024-04-01 06:52:39.651\n",
       "79433      25G_B1 2024-04-01 06:53:19.864\n",
       "79434     100G_A1 2024-04-01 06:54:52.127\n",
       "\n",
       "[79435 rows x 2 columns]"
      ]
     },
     "execution_count": 8,
     "metadata": {},
     "output_type": "execute_result"
    }
   ],
   "source": [
    "df_module_list"
   ]
  },
  {
   "cell_type": "code",
   "execution_count": 9,
   "id": "4cacce54-87c8-462c-a13c-187422ed34ce",
   "metadata": {
    "execution": {
     "iopub.execute_input": "2024-10-19T10:54:17.470962Z",
     "iopub.status.busy": "2024-10-19T10:54:17.470962Z",
     "iopub.status.idle": "2024-10-19T10:54:18.165949Z",
     "shell.execute_reply": "2024-10-19T10:54:18.165445Z",
     "shell.execute_reply.started": "2024-10-19T10:54:17.470962Z"
    }
   },
   "outputs": [],
   "source": [
    "# Loop through each product range to generate SNs with different prefixes and rolling numbers. \n",
    "list_module_with_sn = []  # Initialize an empty list to store resulting dfs from the loop. \n",
    "for key, val in dict_sn_prefix.items():\n",
    "    df_temp = df_module_list[df_module_list[\"ProductName\"].str.startswith(key)].reset_index(drop = True)\n",
    "\n",
    "    # Generate a random int to be used for the starting SN. \n",
    "    i_sn_int = randint(1,1000)\n",
    "\n",
    "    # Loop through each row to add the SN into the column. \n",
    "    for i in range(0, len(df_temp)):\n",
    "        i_sn_str = val + str(i_sn_int).zfill(6)  # Final SN will be the prefix plus 6 rolling digits. \n",
    "        df_temp.at[i, \"SerialNum\"] = i_sn_str\n",
    "        i_sn_int += 1\n",
    "\n",
    "    list_module_with_sn.append(df_temp)\n",
    "\n",
    "df_module_sn = pd.concat(list_module_with_sn).reset_index(drop = True)"
   ]
  },
  {
   "cell_type": "code",
   "execution_count": 10,
   "id": "a5eace86-27e2-41e3-b97d-699ae7b6d1c1",
   "metadata": {
    "execution": {
     "iopub.execute_input": "2024-10-19T10:54:18.166955Z",
     "iopub.status.busy": "2024-10-19T10:54:18.166955Z",
     "iopub.status.idle": "2024-10-19T10:54:18.180827Z",
     "shell.execute_reply": "2024-10-19T10:54:18.180827Z",
     "shell.execute_reply.started": "2024-10-19T10:54:18.166955Z"
    }
   },
   "outputs": [
    {
     "data": {
      "text/html": [
       "<div>\n",
       "<style scoped>\n",
       "    .dataframe tbody tr th:only-of-type {\n",
       "        vertical-align: middle;\n",
       "    }\n",
       "\n",
       "    .dataframe tbody tr th {\n",
       "        vertical-align: top;\n",
       "    }\n",
       "\n",
       "    .dataframe thead th {\n",
       "        text-align: right;\n",
       "    }\n",
       "</style>\n",
       "<table border=\"1\" class=\"dataframe\">\n",
       "  <thead>\n",
       "    <tr style=\"text-align: right;\">\n",
       "      <th></th>\n",
       "      <th>ProductName</th>\n",
       "      <th>TestTimeStamp</th>\n",
       "      <th>SerialNum</th>\n",
       "    </tr>\n",
       "  </thead>\n",
       "  <tbody>\n",
       "    <tr>\n",
       "      <th>0</th>\n",
       "      <td>10G_A1</td>\n",
       "      <td>2024-01-01 07:01:04.939</td>\n",
       "      <td>L000192</td>\n",
       "    </tr>\n",
       "    <tr>\n",
       "      <th>1</th>\n",
       "      <td>10G_A2</td>\n",
       "      <td>2024-01-01 07:02:17.268</td>\n",
       "      <td>L000193</td>\n",
       "    </tr>\n",
       "    <tr>\n",
       "      <th>2</th>\n",
       "      <td>10G_A1</td>\n",
       "      <td>2024-01-01 07:03:00.429</td>\n",
       "      <td>L000194</td>\n",
       "    </tr>\n",
       "    <tr>\n",
       "      <th>3</th>\n",
       "      <td>10G_A1</td>\n",
       "      <td>2024-01-01 07:03:39.104</td>\n",
       "      <td>L000195</td>\n",
       "    </tr>\n",
       "    <tr>\n",
       "      <th>4</th>\n",
       "      <td>10G_A1</td>\n",
       "      <td>2024-01-01 07:05:07.944</td>\n",
       "      <td>L000196</td>\n",
       "    </tr>\n",
       "    <tr>\n",
       "      <th>...</th>\n",
       "      <td>...</td>\n",
       "      <td>...</td>\n",
       "      <td>...</td>\n",
       "    </tr>\n",
       "    <tr>\n",
       "      <th>79430</th>\n",
       "      <td>400G_A1</td>\n",
       "      <td>2024-04-01 05:47:28.924</td>\n",
       "      <td>U004826</td>\n",
       "    </tr>\n",
       "    <tr>\n",
       "      <th>79431</th>\n",
       "      <td>400G_A2</td>\n",
       "      <td>2024-04-01 06:24:52.287</td>\n",
       "      <td>U004827</td>\n",
       "    </tr>\n",
       "    <tr>\n",
       "      <th>79432</th>\n",
       "      <td>400G_A2</td>\n",
       "      <td>2024-04-01 06:25:36.961</td>\n",
       "      <td>U004828</td>\n",
       "    </tr>\n",
       "    <tr>\n",
       "      <th>79433</th>\n",
       "      <td>400G_A2</td>\n",
       "      <td>2024-04-01 06:34:03.607</td>\n",
       "      <td>U004829</td>\n",
       "    </tr>\n",
       "    <tr>\n",
       "      <th>79434</th>\n",
       "      <td>400G_A2</td>\n",
       "      <td>2024-04-01 06:52:39.651</td>\n",
       "      <td>U004830</td>\n",
       "    </tr>\n",
       "  </tbody>\n",
       "</table>\n",
       "<p>79435 rows × 3 columns</p>\n",
       "</div>"
      ],
      "text/plain": [
       "      ProductName           TestTimeStamp SerialNum\n",
       "0          10G_A1 2024-01-01 07:01:04.939   L000192\n",
       "1          10G_A2 2024-01-01 07:02:17.268   L000193\n",
       "2          10G_A1 2024-01-01 07:03:00.429   L000194\n",
       "3          10G_A1 2024-01-01 07:03:39.104   L000195\n",
       "4          10G_A1 2024-01-01 07:05:07.944   L000196\n",
       "...           ...                     ...       ...\n",
       "79430     400G_A1 2024-04-01 05:47:28.924   U004826\n",
       "79431     400G_A2 2024-04-01 06:24:52.287   U004827\n",
       "79432     400G_A2 2024-04-01 06:25:36.961   U004828\n",
       "79433     400G_A2 2024-04-01 06:34:03.607   U004829\n",
       "79434     400G_A2 2024-04-01 06:52:39.651   U004830\n",
       "\n",
       "[79435 rows x 3 columns]"
      ]
     },
     "execution_count": 10,
     "metadata": {},
     "output_type": "execute_result"
    }
   ],
   "source": [
    "df_module_sn"
   ]
  },
  {
   "cell_type": "code",
   "execution_count": 11,
   "id": "83a9d87a-95d0-4578-a5d9-de80ccb7bdf7",
   "metadata": {
    "execution": {
     "iopub.execute_input": "2024-10-19T10:55:06.406138Z",
     "iopub.status.busy": "2024-10-19T10:55:06.406138Z",
     "iopub.status.idle": "2024-10-19T11:04:25.395634Z",
     "shell.execute_reply": "2024-10-19T11:04:25.395634Z",
     "shell.execute_reply.started": "2024-10-19T10:55:06.406138Z"
    }
   },
   "outputs": [
    {
     "name": "stdout",
     "output_type": "stream",
     "text": [
      "(630649, 7)\n"
     ]
    }
   ],
   "source": [
    "i = 0 \n",
    "list_dfs = []  # To store all dfs generated through the loop. \n",
    "\n",
    "# Loop through each SerialNum to generate a list of test records for that module. \n",
    "for i in range(0, len(df_module_sn)):\n",
    "    # Create an empty temp df for this SN. \n",
    "    df_temp = pd.DataFrame()\n",
    "    \n",
    "    # Get the existing information from the SN df first. \n",
    "    temp_sn = df_module_sn.at[i, \"SerialNum\"]\n",
    "    temp_prodname = df_module_sn.at[i, \"ProductName\"]\n",
    "    temp_ts = df_module_sn.at[i, \"TestTimeStamp\"]  # Note that this will be replaced later throughout the test / retest processes. \n",
    "    \n",
    "    # Get the test list for the product. \n",
    "    df_temp_testlist = df_gen_testlist[df_gen_testlist[\"ProductName\"] == temp_prodname].sort_values(by = [\"Sequence\"]).reset_index(drop = True)\n",
    "    \n",
    "    # Loop through each tests to generate test / retest data for that test. \n",
    "    for j in range(0, len(df_temp_testlist)):\n",
    "        # Get existing information regarding the test. \n",
    "        temp_testname = df_temp_testlist.at[j, \"TestName\"]\n",
    "        temp_passrate = df_temp_testlist.at[j, \"PassingRate\"]\n",
    "        temp_mean_test_duration = df_temp_testlist.at[j, \"Mean_TestDuration_s\"]\n",
    "        \n",
    "        # Get the list of MachineID and their usage probabilities for this test. \n",
    "        df_temp_machlist = df_gen_machlist[df_gen_machlist[\"TestName\"] == temp_testname]\n",
    "        list_temp_machine_id = list(df_temp_machlist[\"MachineID\"])\n",
    "        list_temp_usage_prob = list(df_temp_machlist[\"UsageProbability\"])\n",
    "    \n",
    "        # If the test failed, perform a maximum of 2 retest (means total 3 tests). \n",
    "        count_retest = 0\n",
    "        temp_testresult = \"FAIL\"\n",
    "        while ((temp_testresult != \"PASS\") and (count_retest < 3)):\n",
    "            # Generate a TestDuration_s, TestResult (pass or fail) and MachineID based on random numbers. \n",
    "            temp_test_duration = np.random.normal(temp_mean_test_duration, temp_mean_test_duration*0.1)\n",
    "            temp_testresult = (\"PASS\" if random() < temp_passrate else \"FAIL\")\n",
    "            temp_machine_id = np.random.choice(list_temp_machine_id, p = list_temp_usage_prob)\n",
    "            \n",
    "            # If the TestResult is FAIL, randomly reduce the TestDuration_s by 10%-90%. \n",
    "            if temp_testresult != \"PASS\":\n",
    "                temp_test_duration = temp_test_duration * randint(1000, 9000)/10000\n",
    "                count_retest += 1\n",
    "                temp_passrate = temp_passrate - 0.12  # Some adjustment for modules that failed first test to be more likely to fail retests\n",
    "            \n",
    "            # Append this record to the df_temp for this SN. \n",
    "            temp_rownum = len(df_temp)\n",
    "            df_temp.at[temp_rownum, \"SerialNum\"] = temp_sn\n",
    "            df_temp.at[temp_rownum, \"ProductName\"] = temp_prodname\n",
    "            df_temp.at[temp_rownum, \"TestName\"] = temp_testname\n",
    "            df_temp.at[temp_rownum, \"MachineID\"] = temp_machine_id\n",
    "            df_temp.at[temp_rownum, \"TestTimeStamp\"] = temp_ts\n",
    "            df_temp.at[temp_rownum, \"TestResult\"] = temp_testresult\n",
    "            df_temp.at[temp_rownum, \"TestDuration_s\"] = temp_test_duration\n",
    "    \n",
    "            # Generate a random duration that lapsed after this test, depends on whether it is proceeding to retest or next test\n",
    "            if temp_testresult == \"PASS\":\n",
    "                temp_dict_key = \"Between Tests\"\n",
    "            elif count_retest == 1:\n",
    "                temp_dict_key = \"1st Retest\"\n",
    "            else: # Max 2 retests\n",
    "                temp_dict_key = \"2nd Retest\"\n",
    "            temp_random_interval = np.random.normal(dict_avg_interval[temp_dict_key], dict_avg_interval[temp_dict_key]*0.1)\n",
    "            # Update the timestamp for this SN. \n",
    "            temp_ts = temp_ts + timedelta(seconds = (temp_test_duration + temp_random_interval))\n",
    "\n",
    "        # If an SN failed 3 times in the same test, directly stop the process without moving to the next test. \n",
    "        if ((temp_testresult != \"PASS\") and (count_retest >= 3)):\n",
    "            break\n",
    "    \n",
    "    # Adding the df for this SN into the list of dfs. \n",
    "    list_dfs.append(df_temp)\n",
    "\n",
    "# Combine the data of all dfs into one. \n",
    "df_master = pd.concat(list_dfs)\n",
    "print(df_master.shape)"
   ]
  },
  {
   "cell_type": "code",
   "execution_count": 13,
   "id": "4420be84-8567-44ec-99e0-a8b7487e286f",
   "metadata": {
    "execution": {
     "iopub.execute_input": "2024-10-19T11:05:49.375095Z",
     "iopub.status.busy": "2024-10-19T11:05:49.375095Z",
     "iopub.status.idle": "2024-10-19T11:05:51.541485Z",
     "shell.execute_reply": "2024-10-19T11:05:51.541485Z",
     "shell.execute_reply.started": "2024-10-19T11:05:49.375095Z"
    }
   },
   "outputs": [],
   "source": [
    "df_master.to_csv(\"generated_raw_data.csv\", index = False)"
   ]
  },
  {
   "cell_type": "code",
   "execution_count": null,
   "id": "475a7cfa-9dc5-491c-b188-b8e7293cde4d",
   "metadata": {},
   "outputs": [],
   "source": []
  },
  {
   "cell_type": "code",
   "execution_count": null,
   "id": "638bfdcc-ca86-401a-8aca-24e444005377",
   "metadata": {},
   "outputs": [],
   "source": []
  },
  {
   "cell_type": "code",
   "execution_count": null,
   "id": "67ab1c19-48d2-4888-9be9-ca4d48f244dc",
   "metadata": {},
   "outputs": [],
   "source": []
  }
 ],
 "metadata": {
  "kernelspec": {
   "display_name": "Python 3 (ipykernel)",
   "language": "python",
   "name": "python3"
  },
  "language_info": {
   "codemirror_mode": {
    "name": "ipython",
    "version": 3
   },
   "file_extension": ".py",
   "mimetype": "text/x-python",
   "name": "python",
   "nbconvert_exporter": "python",
   "pygments_lexer": "ipython3",
   "version": "3.9.13"
  }
 },
 "nbformat": 4,
 "nbformat_minor": 5
}
